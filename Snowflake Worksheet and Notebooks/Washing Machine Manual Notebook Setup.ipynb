{
 "metadata": {
  "kernelspec": {
   "display_name": "Streamlit Notebook",
   "name": "streamlit"
  },
  "lastEditStatus": {
   "notebookId": "avxsl37xi4r4svzhuayi",
   "authorId": "3741682588293",
   "authorName": "MICHELLEVONHUTH",
   "authorEmail": "michelle.vonhuth@gmail.com",
   "sessionId": "f1602ae0-9617-40fe-b102-966e9675008e",
   "lastEditTime": 1744617263033
  }
 },
 "nbformat_minor": 5,
 "nbformat": 4,
 "cells": [
  {
   "cell_type": "markdown",
   "id": "77b5c641-e0c2-4c37-ac57-0bdeafcb2d0b",
   "metadata": {
    "name": "cell1",
    "collapsed": false
   },
   "source": "# Washing Machine Manual Notebook\n"
  },
  {
   "cell_type": "markdown",
   "id": "713fe1e6-8054-4e07-8062-01b02a6176e8",
   "metadata": {
    "name": "cell3",
    "collapsed": false
   },
   "source": "### Step 1: Extract Text from PDFs Using Cortex"
  },
  {
   "cell_type": "code",
   "id": "463f7495-707e-4a35-bb22-ec4db2972e44",
   "metadata": {
    "language": "sql",
    "name": "cell4"
   },
   "outputs": [],
   "source": "-- Step 1a: Create table to store extracted text\nCREATE OR REPLACE TABLE manuals_raw (\n  file_name STRING,\n  page_number INT,\n  full_text STRING\n);\n",
   "execution_count": null
  },
  {
   "cell_type": "code",
   "id": "11da29af-ef71-4c93-868e-5c01749f9aac",
   "metadata": {
    "language": "sql",
    "name": "cell2",
    "codeCollapsed": false
   },
   "outputs": [],
   "source": "-- Step 1b: Parse PDFs and extract full layout text\nCREATE OR REPLACE TABLE manuals_raw AS\nSELECT \n  relative_path AS file_name,\n  0 AS page_number,  -- fake page for now, we can enrich later\n  TO_VARCHAR(\n    SNOWFLAKE.CORTEX.PARSE_DOCUMENT(@docs, relative_path, {'mode': 'LAYOUT'})\n  ) AS full_text\nFROM DIRECTORY(@docs);\n",
   "execution_count": null
  },
  {
   "cell_type": "code",
   "id": "b1b12197-82cd-4e8b-9b43-73719b7fb2cb",
   "metadata": {
    "language": "sql",
    "name": "cell10",
    "codeCollapsed": false
   },
   "outputs": [],
   "source": "-- Step 1c: Extract the actual \"content\" from the JSON blob\n\nCREATE OR REPLACE TABLE manuals_cleaned AS\nSELECT\n  file_name,\n  PARSE_JSON(full_text):content::STRING AS content_text\nFROM manuals_raw;\n",
   "execution_count": null
  },
  {
   "cell_type": "markdown",
   "id": "d34d68a7-b8f5-4c16-86e5-b136f0a3c4ae",
   "metadata": {
    "name": "cell5",
    "collapsed": false
   },
   "source": "### Step 2: Split Text into Chunks Using Cortex"
  },
  {
   "cell_type": "code",
   "id": "3f09ab42-a4c0-4742-a365-74b43f00ab80",
   "metadata": {
    "language": "sql",
    "name": "cell6"
   },
   "outputs": [],
   "source": "CREATE OR REPLACE TABLE manuals_chunks AS\nSELECT \n  file_name,\n  ROW_NUMBER() OVER (PARTITION BY file_name ORDER BY SEQ4()) - 1 AS chunk_index,\n  value::STRING AS chunk_text\nFROM manuals_cleaned,\nLATERAL FLATTEN(\n  INPUT => SNOWFLAKE.CORTEX.SPLIT_TEXT_RECURSIVE_CHARACTER(\n    content_text,\n    'markdown',\n    3000,\n    200\n  )\n);\n",
   "execution_count": null
  },
  {
   "cell_type": "code",
   "id": "5f6b167c-39e2-494d-bb29-af012ef979a8",
   "metadata": {
    "language": "sql",
    "name": "cell8",
    "codeCollapsed": false
   },
   "outputs": [],
   "source": "SELECT * FROM manuals_chunks LIMIT 5;",
   "execution_count": null
  },
  {
   "cell_type": "markdown",
   "id": "c871ca85-f54f-484e-9657-f42fd3ff23fa",
   "metadata": {
    "name": "cell7",
    "collapsed": false
   },
   "source": "### Step 3: Embed Each Chunk with Cortex"
  },
  {
   "cell_type": "code",
   "id": "3718ab55-421b-4b37-a3af-8a4832dbb19a",
   "metadata": {
    "language": "sql",
    "name": "cell11"
   },
   "outputs": [],
   "source": "CREATE OR REPLACE TABLE manuals_embeddings AS\nSELECT\n  file_name,\n  chunk_index,\n  chunk_text,\n  SNOWFLAKE.CORTEX.EMBED_TEXT_768(\n    'snowflake-arctic-embed-m-v1.5',  \n    chunk_text                       \n  ) AS embedding\nFROM manuals_chunks;\n\n\n\n-- Can also try:\n                -- snowflake-arctic-embed-m-v1.5\n\n                -- snowflake-arctic-embed-m\n\n                -- e5-base-v2\n",
   "execution_count": null
  },
  {
   "cell_type": "code",
   "id": "e1b21956-0750-4b7b-9caa-f7c640345f98",
   "metadata": {
    "language": "sql",
    "name": "cell13"
   },
   "outputs": [],
   "source": "SELECT \n  file_name,\n  chunk_index,\n  LEFT(chunk_text, 200) AS chunk_preview,\n  embedding\nFROM manuals_embeddings\nLIMIT 5;\n",
   "execution_count": null
  },
  {
   "cell_type": "markdown",
   "id": "0ac6c09a-b2d7-48ae-8ebd-b30132c6a81a",
   "metadata": {
    "name": "cell9",
    "collapsed": false
   },
   "source": "###  Step 4: Semantic Search (Build Search + Ask Questions)"
  },
  {
   "cell_type": "code",
   "id": "b01c9323-37e3-4fb8-99a2-7e3c832306d1",
   "metadata": {
    "language": "sql",
    "name": "cell15"
   },
   "outputs": [],
   "source": "-- Find best matching chunks\nWITH query AS (\n  SELECT SNOWFLAKE.CORTEX.EMBED_TEXT_768(\n    'snowflake-arctic-embed-m-v1.5',\n    'The washing machine is not draining. What should I do?'\n  ) AS query_vec\n)\n\nSELECT \n  file_name,\n  chunk_index,\n  chunk_text,\n  VECTOR_COSINE_SIMILARITY(embedding, query.query_vec) AS similarity\nFROM manuals_embeddings, query\nORDER BY similarity DESC\nLIMIT 5;\n",
   "execution_count": null
  },
  {
   "cell_type": "markdown",
   "id": "93928ca8-bedf-42bc-85ac-179f4acd2691",
   "metadata": {
    "name": "cell16",
    "collapsed": false
   },
   "source": "### Step 5: Use CORTEX.COMPLETE() to Generate Answers from Retrieved Chunks"
  },
  {
   "cell_type": "code",
   "id": "88e78ac2-fbb5-4af1-bb64-c578f5b0a998",
   "metadata": {
    "language": "sql",
    "name": "cell12"
   },
   "outputs": [],
   "source": "WITH base_prompt AS (\n  SELECT \n    file_name,\n    chunk_text\n  FROM manuals_chunks\n  WHERE LOWER(chunk_text) LIKE '%emergency release%'\n  QUALIFY ROW_NUMBER() OVER (PARTITION BY file_name ORDER BY chunk_index) = 1\n),\n\nfull_prompt AS (\n  SELECT\n    file_name,\n    'Search the following manual content and return the full section titled \"Emergency release\", including any relevant sub-sections or instructions. If the section is not present in this text, say \"Not found.\" \n\n    Manual text:\n    ' || chunk_text AS full_prompt\n  FROM base_prompt\n),\n\nraw_answers AS (\n  SELECT \n    file_name,\n    SNOWFLAKE.CORTEX.COMPLETE(\n      'mistral-7b',\n      ARRAY_CONSTRUCT(\n        OBJECT_CONSTRUCT('role', 'user', 'content', full_prompt.full_prompt)\n      ),\n      OBJECT_CONSTRUCT(\n        'TEMPERATURE', 0.2,\n        'MAX_TOKENS', 1024\n      )\n    ) AS section_answer\n  FROM full_prompt\n)\n\nSELECT \n  file_name,\n  REPLACE(section_answer:choices[0]:messages::STRING, '\\\\n', '\\n') AS section_text\nFROM raw_answers;\n",
   "execution_count": null
  },
  {
   "cell_type": "code",
   "id": "030c5f33-ed08-472c-ad01-49ae325551d3",
   "metadata": {
    "language": "sql",
    "name": "cell18"
   },
   "outputs": [],
   "source": "WITH base_prompt AS (\n  SELECT \n    file_name,\n    chunk_text\n  FROM manuals_chunks\n  WHERE LOWER(chunk_text) LIKE '%table of contents%'\n  QUALIFY ROW_NUMBER() OVER (PARTITION BY file_name ORDER BY chunk_index) = 1\n),\n\nfull_prompt AS (\n  SELECT\n    file_name,\n    'Extract the complete \"Table of contents\" section from the following manual text. If no table of contents is present, say \"Not found.\"\n\n    Manual text:\n    ' || chunk_text AS full_prompt\n  FROM base_prompt\n),\n\nraw_answers AS (\n  SELECT \n    file_name,\n    SNOWFLAKE.CORTEX.COMPLETE(\n      'mistral-7b',\n      ARRAY_CONSTRUCT(\n        OBJECT_CONSTRUCT('role', 'user', 'content', full_prompt.full_prompt)\n      ),\n      OBJECT_CONSTRUCT(\n        'TEMPERATURE', 0.2,\n        'MAX_TOKENS', 1024\n      )\n    ) AS section_answer\n  FROM full_prompt\n)\n\nSELECT \n  file_name,\n  REPLACE(section_answer:choices[0]:messages::STRING, '\\\\n', '\\n') AS section_text\nFROM raw_answers;\n",
   "execution_count": null
  }
 ]
}