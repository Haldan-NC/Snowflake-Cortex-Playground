{
 "cells": [
  {
   "cell_type": "markdown",
   "id": "e9445f7e",
   "metadata": {},
   "source": [
    "## This notebook is used to test the functionality of RAG_app.py\n",
    "\n",
    "It is not intended to be run as a script, but rather to be used as a test suite for the RAG_app.py module."
   ]
  },
  {
   "cell_type": "code",
   "execution_count": null,
   "id": "22cdf761",
   "metadata": {},
   "outputs": [],
   "source": [
    "from RAG_app import main_RAG_pipeline as How_do_I"
   ]
  },
  {
   "cell_type": "code",
   "execution_count": null,
   "id": "a423ccfe",
   "metadata": {},
   "outputs": [],
   "source": [
    "machine_name = \"WGA1420SIN\"\n",
    "user_query = f\"There is often detergent residues on the laundry when i do a fine wash cycle. My washing machine model is {machine_name}. How can I fix this?\" \n",
    "\n",
    "main_RAG_pipeline(user_query, machine_name)"
   ]
  },
  {
   "cell_type": "code",
   "execution_count": null,
   "id": "7f190056",
   "metadata": {},
   "outputs": [],
   "source": []
  },
  {
   "cell_type": "code",
   "execution_count": null,
   "id": "b5835557",
   "metadata": {},
   "outputs": [],
   "source": []
  },
  {
   "cell_type": "code",
   "execution_count": null,
   "id": "fdbba6ec",
   "metadata": {},
   "outputs": [],
   "source": []
  },
  {
   "cell_type": "code",
   "execution_count": null,
   "id": "10423460",
   "metadata": {},
   "outputs": [],
   "source": []
  }
 ],
 "metadata": {
  "kernelspec": {
   "display_name": "Python 3",
   "language": "python",
   "name": "python3"
  },
  "language_info": {
   "name": "python",
   "version": "3.12.4"
  }
 },
 "nbformat": 4,
 "nbformat_minor": 5
}
