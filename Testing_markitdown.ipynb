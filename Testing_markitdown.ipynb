{
 "cells": [
  {
   "cell_type": "markdown",
   "id": "21a37125",
   "metadata": {},
   "source": [
    "# The Idea with this notebook is to compare the text extracted from using markitdown, compared to snowflakes CORTEX document parser"
   ]
  },
  {
   "cell_type": "code",
   "execution_count": null,
   "id": "f04ef3f7",
   "metadata": {},
   "outputs": [],
   "source": []
  },
  {
   "cell_type": "code",
   "execution_count": null,
   "id": "3b6f321f",
   "metadata": {},
   "outputs": [],
   "source": []
  },
  {
   "cell_type": "code",
   "execution_count": null,
   "id": "4382e14c",
   "metadata": {},
   "outputs": [],
   "source": []
  }
 ],
 "metadata": {
  "language_info": {
   "name": "python"
  }
 },
 "nbformat": 4,
 "nbformat_minor": 5
}
