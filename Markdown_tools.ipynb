{
 "cells": [
  {
   "cell_type": "markdown",
   "id": "0b3eaf37",
   "metadata": {},
   "source": [
    "## Docling"
   ]
  },
  {
   "cell_type": "code",
   "execution_count": null,
   "id": "13680d50",
   "metadata": {},
   "outputs": [],
   "source": [
    "import json\n",
    "import logging\n",
    "import time\n",
    "from pathlib import Path\n",
    "\n",
    "from docling.datamodel.base_models import InputFormat\n",
    "from docling.datamodel.pipeline_options import (\n",
    "    AcceleratorDevice,\n",
    "    AcceleratorOptions,\n",
    "    PdfPipelineOptions,\n",
    ")\n",
    "from docling.document_converter import DocumentConverter, PdfFormatOption"
   ]
  },
  {
   "cell_type": "code",
   "execution_count": null,
   "id": "1109fdac",
   "metadata": {},
   "outputs": [],
   "source": [
    "_log = logging.getLogger(__name__)\n"
   ]
  },
  {
   "cell_type": "code",
   "execution_count": null,
   "id": "b7242aa3",
   "metadata": {},
   "outputs": [],
   "source": [
    "logging.basicConfig(level=logging.INFO)\n",
    "\n",
    "file_path = \"../data/mmo_87050793_1630397705_64_10689.pdf\"\n",
    "\n",
    "input_doc_path = Path(file_path)\n",
    "\n",
    "###########################################################################\n",
    "\n",
    "# The following sections contain a combination of PipelineOptions\n",
    "# and PDF Backends for various configurations.\n",
    "# Uncomment one section at the time to see the differences in the output.\n",
    "\n",
    "# PyPdfium without EasyOCR\n",
    "# --------------------\n",
    "# pipeline_options = PdfPipelineOptions()\n",
    "# pipeline_options.do_ocr = False\n",
    "# pipeline_options.do_table_structure = True\n",
    "# pipeline_options.table_structure_options.do_cell_matching = False\n",
    "\n",
    "# doc_converter = DocumentConverter(\n",
    "#     format_options={\n",
    "#         InputFormat.PDF: PdfFormatOption(\n",
    "#             pipeline_options=pipeline_options, backend=PyPdfiumDocumentBackend\n",
    "#         )\n",
    "#     }\n",
    "# )\n",
    "\n",
    "# PyPdfium with EasyOCR\n",
    "# -----------------\n",
    "# pipeline_options = PdfPipelineOptions()\n",
    "# pipeline_options.do_ocr = True\n",
    "# pipeline_options.do_table_structure = True\n",
    "# pipeline_options.table_structure_options.do_cell_matching = True\n",
    "\n",
    "# doc_converter = DocumentConverter(\n",
    "#     format_options={\n",
    "#         InputFormat.PDF: PdfFormatOption(\n",
    "#             pipeline_options=pipeline_options, backend=PyPdfiumDocumentBackend\n",
    "#         )\n",
    "#     }\n",
    "# )\n",
    "\n",
    "# Docling Parse without EasyOCR\n",
    "# -------------------------\n",
    "# pipeline_options = PdfPipelineOptions()\n",
    "# pipeline_options.do_ocr = False\n",
    "# pipeline_options.do_table_structure = True\n",
    "# pipeline_options.table_structure_options.do_cell_matching = True\n",
    "\n",
    "# doc_converter = DocumentConverter(\n",
    "#     format_options={\n",
    "#         InputFormat.PDF: PdfFormatOption(pipeline_options=pipeline_options)\n",
    "#     }\n",
    "# )\n",
    "\n",
    "# Docling Parse with EasyOCR\n",
    "# ----------------------\n",
    "pipeline_options = PdfPipelineOptions()\n",
    "pipeline_options.do_ocr = True\n",
    "pipeline_options.do_table_structure = True\n",
    "pipeline_options.table_structure_options.do_cell_matching = True\n",
    "pipeline_options.ocr_options.lang = [\"es\"]\n",
    "pipeline_options.accelerator_options = AcceleratorOptions(\n",
    "    num_threads=4, device=AcceleratorDevice.AUTO\n",
    ")\n",
    "\n",
    "doc_converter = DocumentConverter(\n",
    "    format_options={\n",
    "        InputFormat.PDF: PdfFormatOption(pipeline_options=pipeline_options)\n",
    "    }\n",
    ")\n",
    "\n",
    "# Docling Parse with EasyOCR (CPU only)\n",
    "# ----------------------\n",
    "# pipeline_options = PdfPipelineOptions()\n",
    "# pipeline_options.do_ocr = True\n",
    "# pipeline_options.ocr_options.use_gpu = False  # <-- set this.\n",
    "# pipeline_options.do_table_structure = True\n",
    "# pipeline_options.table_structure_options.do_cell_matching = True\n",
    "\n",
    "# doc_converter = DocumentConverter(\n",
    "#     format_options={\n",
    "#         InputFormat.PDF: PdfFormatOption(pipeline_options=pipeline_options)\n",
    "#     }\n",
    "# )\n",
    "\n",
    "# Docling Parse with Tesseract\n",
    "# ----------------------\n",
    "# pipeline_options = PdfPipelineOptions()\n",
    "# pipeline_options.do_ocr = True\n",
    "# pipeline_options.do_table_structure = True\n",
    "# pipeline_options.table_structure_options.do_cell_matching = True\n",
    "# pipeline_options.ocr_options = TesseractOcrOptions()\n",
    "\n",
    "# doc_converter = DocumentConverter(\n",
    "#     format_options={\n",
    "#         InputFormat.PDF: PdfFormatOption(pipeline_options=pipeline_options)\n",
    "#     }\n",
    "# )\n",
    "\n",
    "# Docling Parse with Tesseract CLI\n",
    "# ----------------------\n",
    "# pipeline_options = PdfPipelineOptions()\n",
    "# pipeline_options.do_ocr = True\n",
    "# pipeline_options.do_table_structure = True\n",
    "# pipeline_options.table_structure_options.do_cell_matching = True\n",
    "# pipeline_options.ocr_options = TesseractCliOcrOptions()\n",
    "\n",
    "# doc_converter = DocumentConverter(\n",
    "#     format_options={\n",
    "#         InputFormat.PDF: PdfFormatOption(pipeline_options=pipeline_options)\n",
    "#     }\n",
    "# )\n",
    "\n",
    "# Docling Parse with ocrmac(Mac only)\n",
    "# ----------------------\n",
    "# pipeline_options = PdfPipelineOptions()\n",
    "# pipeline_options.do_ocr = True\n",
    "# pipeline_options.do_table_structure = True\n",
    "# pipeline_options.table_structure_options.do_cell_matching = True\n",
    "# pipeline_options.ocr_options = OcrMacOptions()\n",
    "\n",
    "# doc_converter = DocumentConverter(\n",
    "#     format_options={\n",
    "#         InputFormat.PDF: PdfFormatOption(pipeline_options=pipeline_options)\n",
    "#     }\n",
    "# )\n",
    "\n",
    "###########################################################################\n",
    "\n"
   ]
  },
  {
   "cell_type": "code",
   "execution_count": null,
   "id": "6000023b",
   "metadata": {},
   "outputs": [],
   "source": [
    "start_time = time.time()\n",
    "conv_result = doc_converter.convert(input_doc_path)\n",
    "end_time = time.time() - start_time\n",
    "\n",
    "_log.info(f\"Document converted in {end_time:.2f} seconds.\")\n",
    "\n",
    "## Export results\n",
    "output_dir = Path(\"scratch\")\n",
    "output_dir.mkdir(parents=True, exist_ok=True)\n",
    "doc_filename = conv_result.input.file.stem\n",
    "\n",
    "# # Export Deep Search document JSON format:\n",
    "# with (output_dir / f\"{doc_filename}.json\").open(\"w\", encoding=\"utf-8\") as fp:\n",
    "#     fp.write(json.dumps(conv_result.document.export_to_dict()))\n",
    "\n",
    "# Export Text format:\n",
    "with (output_dir / f\"{doc_filename}.txt\").open(\"w\", encoding=\"utf-8\") as fp:\n",
    "    fp.write(conv_result.document.export_to_text())\n",
    "\n",
    "# Export Markdown format:\n",
    "with (output_dir / f\"{doc_filename}.md\").open(\"w\", encoding=\"utf-8\") as fp:\n",
    "    fp.write(conv_result.document.export_to_markdown())\n",
    "\n",
    "# # Export Document Tags format:\n",
    "# with (output_dir / f\"{doc_filename}.doctags\").open(\"w\", encoding=\"utf-8\") as fp:\n",
    "#     fp.write(conv_result.document.export_to_document_tokens())"
   ]
  },
  {
   "cell_type": "markdown",
   "id": "dd5d2452",
   "metadata": {},
   "source": [
    "## PyPDF2"
   ]
  },
  {
   "cell_type": "code",
   "execution_count": null,
   "id": "410b97c6",
   "metadata": {},
   "outputs": [],
   "source": [
    "import PyPDF2\n",
    "\n",
    "with open(file_path, 'rb') as file:\n",
    "    reader = PyPDF2.PdfFileReader(file)\n",
    "    for page_num in range(reader.numPages):\n",
    "        page = reader.getPage(page_num)\n",
    "        text = page.extract_text()\n",
    "        print(text)\n"
   ]
  },
  {
   "cell_type": "markdown",
   "id": "4d5dace1",
   "metadata": {},
   "source": [
    "## pdfminer"
   ]
  },
  {
   "cell_type": "code",
   "execution_count": null,
   "id": "18c737f2",
   "metadata": {},
   "outputs": [],
   "source": [
    "from pdfminer.high_level import extract_text\n",
    "\n",
    "text = extract_text(file_path)\n",
    "print(text)\n"
   ]
  },
  {
   "cell_type": "markdown",
   "id": "d76be606",
   "metadata": {},
   "source": [
    "## Fitz "
   ]
  },
  {
   "cell_type": "code",
   "execution_count": null,
   "id": "33592be0",
   "metadata": {},
   "outputs": [],
   "source": [
    "import fitz\n",
    "\n",
    "doc = fitz.open(file_path)\n",
    "for page_num in range(doc.page_count):\n",
    "    page = doc.load_page(page_num)\n",
    "    text = page.get_text()\n",
    "    print(text)\n"
   ]
  },
  {
   "cell_type": "markdown",
   "id": "adc45abc",
   "metadata": {},
   "source": [
    "## pdfquery"
   ]
  },
  {
   "cell_type": "code",
   "execution_count": null,
   "id": "38b9aa97",
   "metadata": {},
   "outputs": [],
   "source": [
    "from pdfquery import PDFQuery\n",
    "\n",
    "pdf = PDFQuery(file_path)\n",
    "pdf.load()\n",
    "text = pdf.pq('LTTextLineHorizontal:contains(\"Your Text Here\")').text()\n",
    "print(text)\n"
   ]
  },
  {
   "cell_type": "markdown",
   "id": "2dc2aaf3",
   "metadata": {},
   "source": [
    "## Slate"
   ]
  },
  {
   "cell_type": "code",
   "execution_count": null,
   "id": "f279df47",
   "metadata": {},
   "outputs": [],
   "source": [
    "import slate3k as slate\n",
    "\n",
    "with open(file_path, 'rb') as file:\n",
    "    doc = slate.PDF(file)\n",
    "    for page in doc:\n",
    "        print(page)\n"
   ]
  }
 ],
 "metadata": {
  "kernelspec": {
   "display_name": "VestasVenv",
   "language": "python",
   "name": "python3"
  },
  "language_info": {
   "name": "python",
   "version": "3.12.4"
  }
 },
 "nbformat": 4,
 "nbformat_minor": 5
}
