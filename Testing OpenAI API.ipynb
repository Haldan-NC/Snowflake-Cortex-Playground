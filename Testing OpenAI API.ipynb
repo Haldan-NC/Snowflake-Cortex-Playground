{
 "cells": [
  {
   "cell_type": "code",
   "execution_count": 3,
   "id": "14b1063e",
   "metadata": {},
   "outputs": [],
   "source": [
    "import pandas as pd\n",
    "import numpy as np\n",
    "import matplotlib.pyplot as plt\n",
    "import keyring\n",
    "import os \n",
    "import snowflake.connector as sf_connector # ( https://docs.snowflake.com/en/developer-guide/python-connector/python-connector-connect)\n",
    "from snowflake.connector.pandas_tools import write_pandas # (https://docs.snowflake.com/en/developer-guide/python-connector/python-connector-api#write_pandas)\n",
    "import pdfplumber\n",
    "from langchain.text_splitter import RecursiveCharacterTextSplitter\n",
    "from langchain_community.document_loaders import PDFPlumberLoader\n",
    "from langchain.evaluation import load_evaluator\n",
    "from collections import defaultdict\n",
    "\n",
    "import numpy as np\n",
    "from tqdm import tqdm\n",
    "import time\n",
    "import re\n",
    "import json\n",
    "\n",
    "from io import BytesIO\n",
    "import fitz \n",
    "from shapely.geometry import box\n",
    "from shapely.ops import unary_union\n",
    "from PIL import Image, ImageDraw\n",
    "import cv2\n",
    "from openai import OpenAI\n",
    "\n",
    "\n",
    "# Set max rows to display in pandas DataFrame 200\n",
    "pd.set_option('display.max_rows', 200)"
   ]
  },
  {
   "cell_type": "code",
   "execution_count": 4,
   "id": "a6d8f133",
   "metadata": {},
   "outputs": [
    {
     "name": "stdout",
     "output_type": "stream",
     "text": [
      "Account Identifier:  EPTJRCA-HWB83214\n",
      "User Name:  EMHALDEMO1\n",
      "Database:  WASHING_MACHINE_MANUALS\n",
      "Schema:  PUBLIC\n"
     ]
    },
    {
     "data": {
      "text/plain": [
       "<snowflake.connector.cursor.SnowflakeCursor at 0x21d07bbd280>"
      ]
     },
     "execution_count": 4,
     "metadata": {},
     "output_type": "execute_result"
    }
   ],
   "source": [
    "open_ai_api_key = keyring.get_password(\"openai api\", \"api_key\")\n",
    "client = OpenAI(api_key = open_ai_api_key)\n",
    "\n",
    "account_identifier = keyring.get_password('NC_Snowflake_Trial_Account_Name', 'account_identifier')\n",
    "user_name = \"EMHALDEMO1\"\n",
    "password = keyring.get_password('NC_Snowflake_Trial_User_Password', user_name)\n",
    "database = \"WASHING_MACHINE_MANUALS\"\n",
    "schema = \"PUBLIC\"\n",
    "\n",
    "print(\"Account Identifier: \", account_identifier)\n",
    "print(\"User Name: \", user_name)\n",
    "print(\"Database: \", database)\n",
    "print(\"Schema: \", schema)\n",
    "\n",
    "try:\n",
    "    connection_parameters = {\n",
    "        \"account_identifier\": account_identifier,\n",
    "        \"user\": user_name,\n",
    "        \"password\": password,\n",
    "        \"role\": \"ACCOUNTADMIN\",\n",
    "        \"warehouse\": \"COMPUTE_WH\",\n",
    "        \"database\": database,\n",
    "        \"schema\": schema\n",
    "    }\n",
    "except:\n",
    "        connection_parameters = {\n",
    "        \"account_identifier\": account_identifier,\n",
    "        \"user\": user_name,\n",
    "        \"password\": password,\n",
    "        \"role\": \"ACCOUNTADMIN\",\n",
    "        \"warehouse\": \"COMPUTE_WH\",\n",
    "        \"database\": \"SNOWFLAKE\",\n",
    "        \"schema\": \"CORTEX\"\n",
    "    }\n",
    "\n",
    "\n",
    "# Connect to Snowflake\n",
    "conn = sf_connector.connect(\n",
    "    user=connection_parameters['user'],\n",
    "    password=connection_parameters['password'],\n",
    "    account=connection_parameters['account_identifier'],\n",
    "    warehouse=connection_parameters['warehouse'],\n",
    "    database=connection_parameters['database'],\n",
    "    schema=connection_parameters['schema'],\n",
    "    role=connection_parameters['role']\n",
    ")\n",
    "\n",
    "cursor = conn.cursor()\n",
    "cursor.execute(f\" CREATE DATABASE IF NOT EXISTS {database}; \")\n",
    "cursor.execute(f\" CREATE SCHEMA IF NOT EXISTS {database}.{schema}; \")\n",
    "cursor.execute(f\" USE DATABASE {database}; \")\n",
    "cursor.execute(f\" USE SCHEMA {schema}; \")\n"
   ]
  },
  {
   "cell_type": "code",
   "execution_count": 15,
   "id": "4c0eb0ec",
   "metadata": {},
   "outputs": [
    {
     "data": {
      "text/html": [
       "<div>\n",
       "<style scoped>\n",
       "    .dataframe tbody tr th:only-of-type {\n",
       "        vertical-align: middle;\n",
       "    }\n",
       "\n",
       "    .dataframe tbody tr th {\n",
       "        vertical-align: top;\n",
       "    }\n",
       "\n",
       "    .dataframe thead th {\n",
       "        text-align: right;\n",
       "    }\n",
       "</style>\n",
       "<table border=\"1\" class=\"dataframe\">\n",
       "  <thead>\n",
       "    <tr style=\"text-align: right;\">\n",
       "      <th></th>\n",
       "      <th>DOCUMENT_ID</th>\n",
       "      <th>DOCUMENT_NAME</th>\n",
       "      <th>DOC_VERSION</th>\n",
       "      <th>FILE_PATH</th>\n",
       "      <th>FILE_SIZE</th>\n",
       "      <th>CREATED_AT</th>\n",
       "    </tr>\n",
       "  </thead>\n",
       "  <tbody>\n",
       "    <tr>\n",
       "      <th>0</th>\n",
       "      <td>1</td>\n",
       "      <td>WAV28KH3GB.pdf</td>\n",
       "      <td>N/A</td>\n",
       "      <td>.\\Washer_Manuals\\WAV28KH3GB.pdf</td>\n",
       "      <td>5686613</td>\n",
       "      <td>2025-04-22 01:52:03.390000-07:00</td>\n",
       "    </tr>\n",
       "    <tr>\n",
       "      <th>1</th>\n",
       "      <td>2</td>\n",
       "      <td>WGA1420SIN.pdf</td>\n",
       "      <td>N/A</td>\n",
       "      <td>.\\Washer_Manuals\\WGA1420SIN.pdf</td>\n",
       "      <td>3247850</td>\n",
       "      <td>2025-04-22 01:52:03.390000-07:00</td>\n",
       "    </tr>\n",
       "    <tr>\n",
       "      <th>2</th>\n",
       "      <td>3</td>\n",
       "      <td>WGG254Z0GB.pdf</td>\n",
       "      <td>N/A</td>\n",
       "      <td>.\\Washer_Manuals\\WGG254Z0GB.pdf</td>\n",
       "      <td>3291555</td>\n",
       "      <td>2025-04-22 01:52:03.390000-07:00</td>\n",
       "    </tr>\n",
       "    <tr>\n",
       "      <th>3</th>\n",
       "      <td>101</td>\n",
       "      <td>WAV28KH3GB.pdf</td>\n",
       "      <td>N/A</td>\n",
       "      <td>.\\Washer_Manuals\\WAV28KH3GB.pdf</td>\n",
       "      <td>5686613</td>\n",
       "      <td>2025-04-25 04:44:31.675000-07:00</td>\n",
       "    </tr>\n",
       "    <tr>\n",
       "      <th>4</th>\n",
       "      <td>102</td>\n",
       "      <td>WGA1420SIN.pdf</td>\n",
       "      <td>N/A</td>\n",
       "      <td>.\\Washer_Manuals\\WGA1420SIN.pdf</td>\n",
       "      <td>3247850</td>\n",
       "      <td>2025-04-25 04:44:31.675000-07:00</td>\n",
       "    </tr>\n",
       "    <tr>\n",
       "      <th>5</th>\n",
       "      <td>103</td>\n",
       "      <td>WGG254Z0GB.pdf</td>\n",
       "      <td>N/A</td>\n",
       "      <td>.\\Washer_Manuals\\WGG254Z0GB.pdf</td>\n",
       "      <td>3291555</td>\n",
       "      <td>2025-04-25 04:44:31.675000-07:00</td>\n",
       "    </tr>\n",
       "  </tbody>\n",
       "</table>\n",
       "</div>"
      ],
      "text/plain": [
       "   DOCUMENT_ID   DOCUMENT_NAME DOC_VERSION                        FILE_PATH  \\\n",
       "0            1  WAV28KH3GB.pdf         N/A  .\\Washer_Manuals\\WAV28KH3GB.pdf   \n",
       "1            2  WGA1420SIN.pdf         N/A  .\\Washer_Manuals\\WGA1420SIN.pdf   \n",
       "2            3  WGG254Z0GB.pdf         N/A  .\\Washer_Manuals\\WGG254Z0GB.pdf   \n",
       "3          101  WAV28KH3GB.pdf         N/A  .\\Washer_Manuals\\WAV28KH3GB.pdf   \n",
       "4          102  WGA1420SIN.pdf         N/A  .\\Washer_Manuals\\WGA1420SIN.pdf   \n",
       "5          103  WGG254Z0GB.pdf         N/A  .\\Washer_Manuals\\WGG254Z0GB.pdf   \n",
       "\n",
       "   FILE_SIZE                       CREATED_AT  \n",
       "0    5686613 2025-04-22 01:52:03.390000-07:00  \n",
       "1    3247850 2025-04-22 01:52:03.390000-07:00  \n",
       "2    3291555 2025-04-22 01:52:03.390000-07:00  \n",
       "3    5686613 2025-04-25 04:44:31.675000-07:00  \n",
       "4    3247850 2025-04-25 04:44:31.675000-07:00  \n",
       "5    3291555 2025-04-25 04:44:31.675000-07:00  "
      ]
     },
     "execution_count": 15,
     "metadata": {},
     "output_type": "execute_result"
    }
   ],
   "source": [
    "# Lets see the table\n",
    "cursor.execute(\"\"\"\n",
    "    SELECT * \n",
    "    FROM DOCUMENTS;\n",
    "\"\"\")\n",
    "\n",
    "documents_df = cursor.fetch_pandas_all()\n",
    "documents_df"
   ]
  },
  {
   "cell_type": "code",
   "execution_count": 5,
   "id": "8aa3b11b",
   "metadata": {},
   "outputs": [
    {
     "data": {
      "text/html": [
       "<div>\n",
       "<style scoped>\n",
       "    .dataframe tbody tr th:only-of-type {\n",
       "        vertical-align: middle;\n",
       "    }\n",
       "\n",
       "    .dataframe tbody tr th {\n",
       "        vertical-align: top;\n",
       "    }\n",
       "\n",
       "    .dataframe thead th {\n",
       "        text-align: right;\n",
       "    }\n",
       "</style>\n",
       "<table border=\"1\" class=\"dataframe\">\n",
       "  <thead>\n",
       "    <tr style=\"text-align: right;\">\n",
       "      <th></th>\n",
       "      <th>CHUNK_ID</th>\n",
       "      <th>DOCUMENT_ID</th>\n",
       "      <th>PAGE_START_NUMBER</th>\n",
       "      <th>PAGE_END_NUMBER</th>\n",
       "      <th>CHUNK_ORDER</th>\n",
       "      <th>CHUNK_TEXT</th>\n",
       "      <th>EMBEDDING</th>\n",
       "      <th>CREATED_AT</th>\n",
       "    </tr>\n",
       "  </thead>\n",
       "  <tbody>\n",
       "    <tr>\n",
       "      <th>0</th>\n",
       "      <td>1</td>\n",
       "      <td>1</td>\n",
       "      <td>0</td>\n",
       "      <td>3</td>\n",
       "      <td>0</td>\n",
       "      <td>Register your b M o ge s y n c t B e h f o r w...</td>\n",
       "      <td>[0.048339844, 0.0158844, -0.015388489, -0.0038...</td>\n",
       "      <td>2025-04-22 01:53:38.352000-07:00</td>\n",
       "    </tr>\n",
       "    <tr>\n",
       "      <th>1</th>\n",
       "      <td>2</td>\n",
       "      <td>1</td>\n",
       "      <td>3</td>\n",
       "      <td>7</td>\n",
       "      <td>1</td>\n",
       "      <td>t. ¡ Up to an altitude of max. 4000 m above se...</td>\n",
       "      <td>[0.038604736, 0.08459473, -0.023513794, -0.014...</td>\n",
       "      <td>2025-04-22 01:53:38.352000-07:00</td>\n",
       "    </tr>\n",
       "    <tr>\n",
       "      <th>2</th>\n",
       "      <td>3</td>\n",
       "      <td>1</td>\n",
       "      <td>7</td>\n",
       "      <td>10</td>\n",
       "      <td>2</td>\n",
       "      <td>on or lean against the appliance door. ▶ Do no...</td>\n",
       "      <td>[0.074279785, 0.068359375, -0.0036392212, 0.02...</td>\n",
       "      <td>2025-04-22 01:53:38.352000-07:00</td>\n",
       "    </tr>\n",
       "    <tr>\n",
       "      <th>3</th>\n",
       "      <td>4</td>\n",
       "      <td>1</td>\n",
       "      <td>10</td>\n",
       "      <td>15</td>\n",
       "      <td>3</td>\n",
       "      <td>ese instructions, your creases energy and wate...</td>\n",
       "      <td>[0.008338928, 0.00027441978, 0.044067383, 0.00...</td>\n",
       "      <td>2025-04-22 01:53:38.352000-07:00</td>\n",
       "    </tr>\n",
       "    <tr>\n",
       "      <th>4</th>\n",
       "      <td>5</td>\n",
       "      <td>1</td>\n",
       "      <td>15</td>\n",
       "      <td>22</td>\n",
       "      <td>4</td>\n",
       "      <td>ht. Water outlet connection types 4.6 Aligning...</td>\n",
       "      <td>[0.052764893, 0.074157715, -0.033294678, 0.011...</td>\n",
       "      <td>2025-04-22 01:53:38.352000-07:00</td>\n",
       "    </tr>\n",
       "  </tbody>\n",
       "</table>\n",
       "</div>"
      ],
      "text/plain": [
       "   CHUNK_ID  DOCUMENT_ID  PAGE_START_NUMBER  PAGE_END_NUMBER  CHUNK_ORDER  \\\n",
       "0         1            1                  0                3            0   \n",
       "1         2            1                  3                7            1   \n",
       "2         3            1                  7               10            2   \n",
       "3         4            1                 10               15            3   \n",
       "4         5            1                 15               22            4   \n",
       "\n",
       "                                          CHUNK_TEXT  \\\n",
       "0  Register your b M o ge s y n c t B e h f o r w...   \n",
       "1  t. ¡ Up to an altitude of max. 4000 m above se...   \n",
       "2  on or lean against the appliance door. ▶ Do no...   \n",
       "3  ese instructions, your creases energy and wate...   \n",
       "4  ht. Water outlet connection types 4.6 Aligning...   \n",
       "\n",
       "                                           EMBEDDING  \\\n",
       "0  [0.048339844, 0.0158844, -0.015388489, -0.0038...   \n",
       "1  [0.038604736, 0.08459473, -0.023513794, -0.014...   \n",
       "2  [0.074279785, 0.068359375, -0.0036392212, 0.02...   \n",
       "3  [0.008338928, 0.00027441978, 0.044067383, 0.00...   \n",
       "4  [0.052764893, 0.074157715, -0.033294678, 0.011...   \n",
       "\n",
       "                        CREATED_AT  \n",
       "0 2025-04-22 01:53:38.352000-07:00  \n",
       "1 2025-04-22 01:53:38.352000-07:00  \n",
       "2 2025-04-22 01:53:38.352000-07:00  \n",
       "3 2025-04-22 01:53:38.352000-07:00  \n",
       "4 2025-04-22 01:53:38.352000-07:00  "
      ]
     },
     "execution_count": 5,
     "metadata": {},
     "output_type": "execute_result"
    }
   ],
   "source": [
    "# Lets see the table\n",
    "cursor.execute(\"\"\"\n",
    "    SELECT * \n",
    "    FROM CHUNKS_LARGE;\n",
    "\"\"\")\n",
    "\n",
    "large_chunks_df = cursor.fetch_pandas_all()\n",
    "large_chunks_df.head()"
   ]
  },
  {
   "cell_type": "code",
   "execution_count": 7,
   "id": "6d2613fc",
   "metadata": {},
   "outputs": [
    {
     "name": "stdout",
     "output_type": "stream",
     "text": [
      "Chunk: \n",
      " ing that has ¡ Laundry has absorbed been worn for a just a few odours hours Normal Dirt or light stains are vis- ¡ T-shirts, shirts or blouses ible are sweat-soaked or have been worn a few times ¡ Towels or bedding that has been used for up to one week Heavy Dirt or stains are clearly Tea towels, baby items or visible work clothing 11.4 Care symbols on the care labels Washing care symbols Symbol Washing process Recommended pro- gramme ⁠ ⁠ Normal Cotton ⁠ Gentle Easy-Care ⁠ Particularly gentle Delicates/Silk for washing by hand Hand wash Wool 35 en Detergents and care products Symbol Washing process Recommended pro- gramme Not suitable for machine-washing – ¡ Do not mix different liquid deter- D1etergents and care products 2 Detergents and care gents products ¡ Do not mix detergent and fabric softener Detergents and care products ¡ Do not use products that have ex- Note: Please read the information in pired or are highly congealed the Safety → Page 4 and Preventing ¡ Do not use products containing material damage → Page 10 sections solvents, caustic agents or volatile to ensure that you use the appliance substances (e.g. bleach) safely. ¡ Use dyes sparingly as salt may The manufacturer's instructions for damage stainless steel use and dosage can be found on the ¡ Do not use bleaching agents in the packaging. appliance Notes ¡ Do not use laundry vinegar ¡ Only use liquid detergents that are self-flowing 12.1 Detergent recommendation Detergent Fabrics Pro- Temperature gramme Standard detergent Heat-resistant white Cotton From cold up to with optical brighten- fabrics made from 90 °C ers cotton or linen Detergent for colours Coloured fabrics Cotton From cold up to without bleach or op- made from linen or 60 °C tical brighteners cotton Detergent for col- Coloured fabrics Easy-Care From cold up to ours/delicates without made from easy-care 60 °C optical brighteners fabrics or synthetic materials Detergent for delic- Delicate fine textiles, Delicates/ From cold up to ates silk or viscose Silk 40 °C Detergent for wool- Wool Wool From cold up to lens 40 °C Tip: Visit www.cleanright.eu to find further information on detergents, care products and cleaning agents for domestic use. 36 Detergents and care products en 12.2 Detergent dosage The detergent dosage depends on: You can find out how hard your ¡ The amount of laundry water is from your local water com- ¡ Degree of soiling pany or measure it yourself using ¡ Water hardness a water hardness tester. Water hardness Hardness range Total hardness in mmol/ German degrees in °dH l soft (I) 0–1.5 0–8.4 medium (II) 1.5– 2.5 8.4–14 hard (III) over 2.5 over 14 Example of a manufacturer's instructions for detergent These example values refer to a standard load of 4–5 kg. Soiling Light Normal Heavy Water hardness: Soft/medium 40 ml 55 ml 80 ml Water hardness: Hard/very 55 ml 80 ml 105 ml hard The dosages can be found on the manufacturer's packaging. ¡ If you are not using manual dosage, adjust the dosage to the actual load. ¡ If intelligent dosing is activated, do not adjust the dosage to the actual load capacity. The quantity of de- tergent and fabric softener is auto- matically calculated via the basic dosage → Page 42 and the amount of laundry detected. The basic dosage setting must always comply with the dosage for a load of 4.5 kg. 37 en Basic operation 13.3 Adjusting the pro- B1asic operation 3 Basic operation gramme settings Basic operation Requirement: A programme has 13.1 Switching on the appli- been set. ance → \"Setting a programme\", Page 38 ▶ Press . ▶ Adjust the programme settings. → \"Programmes\", Page 26 Notes ¡ The programme settings are not saved permanently for the pro- gramme. ¡ The setting is saved if you activate or deactivate the intelligent dosing system. 13.4 Loading laundry Notes It may take a few seconds for the ¡ Please read the information in the appliance to switch on. Safety → Page 4 and Preventing aThe appliance performs an audible material damage → Page 10 sec- function test in the detergent tions to ensure that you use the drawer. appliance safely. Note: The drum is lit up after the ¡ To prevent creasing, take note of door is opened and closed and once the maximum load for the the programme has started. The light → \"Programmes\", Page 26. goes out automatically. Requirement: The laundry is pre- pared and sorted. 13.2 Setting a programme → \"Laundry\", Page 34 1. Set the programme selector to the 1. Open the door. required programme. → \"Programmes\", Page 26 Make sure that the drum is empty. 2. Load the laundry unfolded into the 2. If necessary, adjust the pro- drum. gramme settings → Page 38. 3. Close the door. 38 Basic operation en Ensure that there is no laundry aAfter the programme has ended, trapped in the door. the display shows: -0-. 13.5 Adding detergent and 13.7 Soaking laundry care product Note: No additional detergent is re- quired. The washing solution is then For programmes in which intelligent used for washing. dosing is not possible or desirable, you can add detergent to the manual 1. Start the programme. dosing compartment. 2. To pause the programme, after ap- Note: Please read the information in prox. 10 minutes, press Start/Re- the Safety → Page 4 and Preventing load . material damage → Page 10 sections 3. To resume the programme, after to ensure that you use the appliance the desired soaking time, press safely. Start/Reload . Tip: In addition to intelligent dosing, 13.8 Adding laundry you can also add additional care product for laundry, e.g. stain re- Note: Please read the information in mover, starch or bleach, to the the Safety → Page 4 and Preventing manual dosing compartment. Do not material damage → Page 10 sections add any additional detergent to the to ensure that you use the appliance manual dosing compartment to avoid safely. overdosage and/or foaming. 1. Press Start/Reload . Requirement: Find out the optimum The appliance is paused and dosage for detergent and care checks whether it is possible to prod\n",
      "\n",
      "```json\n",
      "{\n",
      "    \"Error Codes\": []\n",
      "}\n",
      "```\n"
     ]
    }
   ],
   "source": [
    "\n",
    "prompt = \"\"\" \n",
    "    I will provide a long string of text in which i want you to identify all of the error codes and return them in a JSON format.\n",
    "    It is likely that it doesn't contain any error codes\n",
    "    The JSON format should be as follows:\n",
    "    {\n",
    "        \"Error Codes\": [\n",
    "            {\n",
    "                \"Code\": \"<error code>\",\n",
    "                \"Description\": \"<description of the error code>\"\n",
    "            },\n",
    "            ...\n",
    "        ]\n",
    "    }\n",
    "\n",
    "    Here is the text:\n",
    "    \n",
    "\"\"\"\n",
    "\n",
    "idx = 7\n",
    "\n",
    "response = client.responses.create(\n",
    "    model=\"gpt-4o\",\n",
    "    instructions= prompt,\n",
    "    input=large_chunks_df.loc[idx,\"CHUNK_TEXT\"],\n",
    ")\n",
    "\n",
    "print(\"Chunk: \\n\", large_chunks_df.loc[idx,\"CHUNK_TEXT\"])\n",
    "print(\"\")\n",
    "print(response.output_text)"
   ]
  },
  {
   "cell_type": "code",
   "execution_count": null,
   "id": "07375bfd",
   "metadata": {},
   "outputs": [
    {
     "name": "stderr",
     "output_type": "stream",
     "text": [
      "Burning through the cash:   5%|▌         | 1/20 [00:02<00:45,  2.41s/it]"
     ]
    },
    {
     "name": "stdout",
     "output_type": "stream",
     "text": [
      "Chunk: \n",
      " he detergent drawer and 10.Clean the inside of the detergent the lid with a soft, damp cloth or drawer housing. hand shower. 11.Push in the detergent drawer. 9. Dry the detergent drawer, lid and pump unit and reinsert them. 18.4 Descaling ATTENTION! The use of unsuitable descaling agents, e.g. for coffee machines, may damage the appliance. ▶ For this appliance, only use de- scaling agents that are available from the manufacturer's website or our after-sales service. 18.5 Cleaning the drain pump Clean the drain pump in the event of faults, e.g. blockages or rattling noises. Emptying the drain pump Note: Please read the information in the Safety → Page 4 and Preventing material damage → Page 10 sections to ensure that you use the appliance safely. 1. Turn off the water tap. 2. Switch off the appliance. 3. Disconnect the appliance's mains plug from the power supply. 50 Cleaning and servicing en 4. Open the maintenance flap. 7. Take the drain hose out of the holder. 5. Remove the maintenance flap. 8. CAUTION - Risk of scalding! When you wash at high temperat- ures, the detergent solution gets hot. ▶ Do not touch the hot detergent solution. To allow the detergent solution to flow out into the container, remove the sealing cap. 6. Slide a sufficiently large receptacle under the opening. 9. Firmly press on the sealing cap. 51 en Cleaning and servicing 10.Insert the drain hose into the 2. Clean the interior, the thread on holder. the pump cap and the pump hous- ing. Cleaning the drain pump The pump cap is comprised of two Note: Please read the information in parts which can be taken apart for the Safety → Page 4 and Preventing cleaning. material damage → Page 10 sections 3. Ensure that both impellers can to ensure that you use the appliance turn. safely. Requirement: The drain pump is empty. → Page 50 1. Since water may remain in the drain pump, remove the pump cap carefully. 4. Insert the pump cap. ‒ Ensure that the parts of the pump cap are correctly as- sembled. 52 Cleaning and servicing en 5. Insert the pump cap and screw it 2. Check the intake opening for on as far as it will go. blockages and remove any block- ages. 90° The handle on the pump cap must be in a vertical position. Note: Do not use any sharp or poin- 6. Insert the maintenance flap and ted objects. lock it into place. 18.7 Cleaning the water outlet hose at the siphon 1. Switch off the appliance. 2. Disconnect the appliance's mains plug from the power supply. 3. Loosen the hose clamp and care- fully remove the water outlet hose. 1 2 7. Close the maintenance flap. 18.6 Cleaning the intake opening in the rubber gasket Regularly check the intake opening in the rubber gasket for any block- ages and clean the intake opening. Residual water may leak out. 1. Open the door. 53 en Cleaning and servicing 4. Clean the water outlet hose and si- Cleaning the filter on the tap phon connecting piece. Note: Please read the information in the Safety → Page 4 and Preventing material damage → Page 10 sections to ensure that you use the appliance safely. Requirement: The water inlet hose is empty. 1. Remove the water inlet hose from the tap. 5. Reattach the water outlet hose and secure the connection point using the hose clamp. 2. Clean the filter with a small brush. 18.8 Clean the water inlet fil- ters. Emptying the water inlet hose 1. Turn off the tap. 2. Set the Cottons programme. 3. Start the programme and leave it to run for approx. 70 seconds. 4. Switch off the appliance. 5. Disconnect the appliance's mains plug from the power supply. 54 Cleaning and servicing en 3. Connect the water inlet hose and 2. Use pliers to remove the filter. check for leaks. 3. Clean the filter with a small brush. Cleaning the filter on the appliance Note: Please read the information in the Safety → Page 4 and Preventing material damage → Page 10 sections to ensure that you use the appliance safely. Requirement: The water inlet hose is empty. → \"Emptying the water inlet hose\", Page 54 4. Reinsert the filter. 1. Disconnect the hose from the rear 5. Connect the hose and check for of the appliance. leaks. 1 2 1 2 55 en Troubleshooting T1roubleshooting 9 Troubleshooting TYroubleshooting ou can rectify minor faults on your appliance yourself. Read the troubleshoot- ing information before contacting after-sales service. This will avoid unneces- sary costs. WARNING Risk of electric shock! Incorrect repairs are dangerous. ▶ Repairs to the appliance should only be carried out by trained specialist staff. ▶ Only use genuine spare parts when repairing the appliance. ▶ If the power cord of this appliance is damaged, it must be replaced by the manufacturer, the manufacturer's Customer Service or a similarly qualified person in order to prevent any risk. Fault Cause and troubleshooting The display goes out Energy-saving mode is active and Start/Reload ▶ Press any button. flashes. aThe symbol lights up again. \"E:30 / -80\" Drain pipe or water outlet hose is blocked. ▶ Clean the drain pipe and the water outlet hose. Drain pipe or water drain hose is caught or jammed. ▶ Ensure that the drain pipe and water drain hose are not kinked or trapped. Drain pump is blocked. ▶ → \"Cleaning the drain pump\", Page 50 The water outlet hose is connected too high. ▶ Install the water outlet hose at a maximum height of 1 metre. Pump cover is not correctly assembled. ▶ Correctly assemble the pump cover. Detergent dosage is too high. ▶ Immediate measure: Mix one tablespoon of fabric softener with 0.5 litres of water and pour the mix- ture into the compartment for manual dosing (not for outdoor clothing, sportswear or items stuffed with down). ▶ If intelligent dosing is activated, reduce the basic dosage → Page 42. ▶ If you dose manually, reduce the amount of deter- gent for the next washing cycle with the same load. 56 Troubleshooting en Fault Cause and troubleshooting \"E:30 / -80\" Unapproved extension installed on the water drain hose. ▶ Remove any unapproved extensions from the water hose. Connecting \n",
      "```json\n",
      "{\n",
      "    \"Error Codes\": [\n",
      "        {\n",
      "            \"Code\": \"E:30 / -80\",\n",
      "            \"Description\": \"Drain pipe or water outlet hose is blocked. Ensure that the drain pipe and water outlet hose are not kinked or trapped. Check that the drain pump is not blocked and that the water outlet hose is not installed too high. Also, check that the pump cover is correctly assembled. Adjust detergent dosage if necessary.\"\n",
      "        }\n",
      "    ]\n",
      "}\n",
      "```\n",
      "\n",
      "\n",
      "\n"
     ]
    },
    {
     "name": "stderr",
     "output_type": "stream",
     "text": [
      "Burning through the cash:  10%|█         | 2/20 [00:04<00:40,  2.26s/it]"
     ]
    },
    {
     "name": "stdout",
     "output_type": "stream",
     "text": [
      "Chunk: \n",
      " he detergent drawer and 10.Clean the inside of the detergent the lid with a soft, damp cloth or drawer housing. hand shower. 11.Push in the detergent drawer. 9. Dry the detergent drawer, lid and pump unit and reinsert them. 18.4 Descaling ATTENTION! The use of unsuitable descaling agents, e.g. for coffee machines, may damage the appliance. ▶ For this appliance, only use de- scaling agents that are available from the manufacturer's website or our after-sales service. 18.5 Cleaning the drain pump Clean the drain pump in the event of faults, e.g. blockages or rattling noises. Emptying the drain pump Note: Please read the information in the Safety → Page 4 and Preventing material damage → Page 10 sections to ensure that you use the appliance safely. 1. Turn off the water tap. 2. Switch off the appliance. 3. Disconnect the appliance's mains plug from the power supply. 50 Cleaning and servicing en 4. Open the maintenance flap. 7. Take the drain hose out of the holder. 5. Remove the maintenance flap. 8. CAUTION - Risk of scalding! When you wash at high temperat- ures, the detergent solution gets hot. ▶ Do not touch the hot detergent solution. To allow the detergent solution to flow out into the container, remove the sealing cap. 6. Slide a sufficiently large receptacle under the opening. 9. Firmly press on the sealing cap. 51 en Cleaning and servicing 10.Insert the drain hose into the 2. Clean the interior, the thread on holder. the pump cap and the pump hous- ing. Cleaning the drain pump The pump cap is comprised of two Note: Please read the information in parts which can be taken apart for the Safety → Page 4 and Preventing cleaning. material damage → Page 10 sections 3. Ensure that both impellers can to ensure that you use the appliance turn. safely. Requirement: The drain pump is empty. → Page 50 1. Since water may remain in the drain pump, remove the pump cap carefully. 4. Insert the pump cap. ‒ Ensure that the parts of the pump cap are correctly as- sembled. 52 Cleaning and servicing en 5. Insert the pump cap and screw it 2. Check the intake opening for on as far as it will go. blockages and remove any block- ages. 90° The handle on the pump cap must be in a vertical position. Note: Do not use any sharp or poin- 6. Insert the maintenance flap and ted objects. lock it into place. 18.7 Cleaning the water outlet hose at the siphon 1. Switch off the appliance. 2. Disconnect the appliance's mains plug from the power supply. 3. Loosen the hose clamp and care- fully remove the water outlet hose. 1 2 7. Close the maintenance flap. 18.6 Cleaning the intake opening in the rubber gasket Regularly check the intake opening in the rubber gasket for any block- ages and clean the intake opening. Residual water may leak out. 1. Open the door. 53 en Cleaning and servicing 4. Clean the water outlet hose and si- Cleaning the filter on the tap phon connecting piece. Note: Please read the information in the Safety → Page 4 and Preventing material damage → Page 10 sections to ensure that you use the appliance safely. Requirement: The water inlet hose is empty. 1. Remove the water inlet hose from the tap. 5. Reattach the water outlet hose and secure the connection point using the hose clamp. 2. Clean the filter with a small brush. 18.8 Clean the water inlet fil- ters. Emptying the water inlet hose 1. Turn off the tap. 2. Set the Cottons programme. 3. Start the programme and leave it to run for approx. 70 seconds. 4. Switch off the appliance. 5. Disconnect the appliance's mains plug from the power supply. 54 Cleaning and servicing en 3. Connect the water inlet hose and 2. Use pliers to remove the filter. check for leaks. 3. Clean the filter with a small brush. Cleaning the filter on the appliance Note: Please read the information in the Safety → Page 4 and Preventing material damage → Page 10 sections to ensure that you use the appliance safely. Requirement: The water inlet hose is empty. → \"Emptying the water inlet hose\", Page 54 4. Reinsert the filter. 1. Disconnect the hose from the rear 5. Connect the hose and check for of the appliance. leaks. 1 2 1 2 55 en Troubleshooting T1roubleshooting 9 Troubleshooting TYroubleshooting ou can rectify minor faults on your appliance yourself. Read the troubleshoot- ing information before contacting after-sales service. This will avoid unneces- sary costs. WARNING Risk of electric shock! Incorrect repairs are dangerous. ▶ Repairs to the appliance should only be carried out by trained specialist staff. ▶ Only use genuine spare parts when repairing the appliance. ▶ If the power cord of this appliance is damaged, it must be replaced by the manufacturer, the manufacturer's Customer Service or a similarly qualified person in order to prevent any risk. Fault Cause and troubleshooting The display goes out Energy-saving mode is active and Start/Reload ▶ Press any button. flashes. aThe symbol lights up again. \"E:30 / -80\" Drain pipe or water outlet hose is blocked. ▶ Clean the drain pipe and the water outlet hose. Drain pipe or water drain hose is caught or jammed. ▶ Ensure that the drain pipe and water drain hose are not kinked or trapped. Drain pump is blocked. ▶ → \"Cleaning the drain pump\", Page 50 The water outlet hose is connected too high. ▶ Install the water outlet hose at a maximum height of 1 metre. Pump cover is not correctly assembled. ▶ Correctly assemble the pump cover. Detergent dosage is too high. ▶ Immediate measure: Mix one tablespoon of fabric softener with 0.5 litres of water and pour the mix- ture into the compartment for manual dosing (not for outdoor clothing, sportswear or items stuffed with down). ▶ If intelligent dosing is activated, reduce the basic dosage → Page 42. ▶ If you dose manually, reduce the amount of deter- gent for the next washing cycle with the same load. 56 Troubleshooting en Fault Cause and troubleshooting \"E:30 / -80\" Unapproved extension installed on the water drain hose. ▶ Remove any unapproved extensions from the water hose. Connecting \n",
      "```json\n",
      "{\n",
      "    \"Error Codes\": [\n",
      "        {\n",
      "            \"Code\": \"E:30 / -80\",\n",
      "            \"Description\": \"Drain pipe or water outlet hose is blocked. Ensure that the drain pipe, water outlet hose, and drain pump are not kinked, trapped, or blocked.\"\n",
      "        }\n",
      "    ]\n",
      "}\n",
      "```\n",
      "\n",
      "\n",
      "\n"
     ]
    },
    {
     "name": "stderr",
     "output_type": "stream",
     "text": [
      "Burning through the cash:  15%|█▌        | 3/20 [00:06<00:34,  2.01s/it]"
     ]
    },
    {
     "name": "stdout",
     "output_type": "stream",
     "text": [
      "Chunk: \n",
      " he detergent drawer and 10.Clean the inside of the detergent the lid with a soft, damp cloth or drawer housing. hand shower. 11.Push in the detergent drawer. 9. Dry the detergent drawer, lid and pump unit and reinsert them. 18.4 Descaling ATTENTION! The use of unsuitable descaling agents, e.g. for coffee machines, may damage the appliance. ▶ For this appliance, only use de- scaling agents that are available from the manufacturer's website or our after-sales service. 18.5 Cleaning the drain pump Clean the drain pump in the event of faults, e.g. blockages or rattling noises. Emptying the drain pump Note: Please read the information in the Safety → Page 4 and Preventing material damage → Page 10 sections to ensure that you use the appliance safely. 1. Turn off the water tap. 2. Switch off the appliance. 3. Disconnect the appliance's mains plug from the power supply. 50 Cleaning and servicing en 4. Open the maintenance flap. 7. Take the drain hose out of the holder. 5. Remove the maintenance flap. 8. CAUTION - Risk of scalding! When you wash at high temperat- ures, the detergent solution gets hot. ▶ Do not touch the hot detergent solution. To allow the detergent solution to flow out into the container, remove the sealing cap. 6. Slide a sufficiently large receptacle under the opening. 9. Firmly press on the sealing cap. 51 en Cleaning and servicing 10.Insert the drain hose into the 2. Clean the interior, the thread on holder. the pump cap and the pump hous- ing. Cleaning the drain pump The pump cap is comprised of two Note: Please read the information in parts which can be taken apart for the Safety → Page 4 and Preventing cleaning. material damage → Page 10 sections 3. Ensure that both impellers can to ensure that you use the appliance turn. safely. Requirement: The drain pump is empty. → Page 50 1. Since water may remain in the drain pump, remove the pump cap carefully. 4. Insert the pump cap. ‒ Ensure that the parts of the pump cap are correctly as- sembled. 52 Cleaning and servicing en 5. Insert the pump cap and screw it 2. Check the intake opening for on as far as it will go. blockages and remove any block- ages. 90° The handle on the pump cap must be in a vertical position. Note: Do not use any sharp or poin- 6. Insert the maintenance flap and ted objects. lock it into place. 18.7 Cleaning the water outlet hose at the siphon 1. Switch off the appliance. 2. Disconnect the appliance's mains plug from the power supply. 3. Loosen the hose clamp and care- fully remove the water outlet hose. 1 2 7. Close the maintenance flap. 18.6 Cleaning the intake opening in the rubber gasket Regularly check the intake opening in the rubber gasket for any block- ages and clean the intake opening. Residual water may leak out. 1. Open the door. 53 en Cleaning and servicing 4. Clean the water outlet hose and si- Cleaning the filter on the tap phon connecting piece. Note: Please read the information in the Safety → Page 4 and Preventing material damage → Page 10 sections to ensure that you use the appliance safely. Requirement: The water inlet hose is empty. 1. Remove the water inlet hose from the tap. 5. Reattach the water outlet hose and secure the connection point using the hose clamp. 2. Clean the filter with a small brush. 18.8 Clean the water inlet fil- ters. Emptying the water inlet hose 1. Turn off the tap. 2. Set the Cottons programme. 3. Start the programme and leave it to run for approx. 70 seconds. 4. Switch off the appliance. 5. Disconnect the appliance's mains plug from the power supply. 54 Cleaning and servicing en 3. Connect the water inlet hose and 2. Use pliers to remove the filter. check for leaks. 3. Clean the filter with a small brush. Cleaning the filter on the appliance Note: Please read the information in the Safety → Page 4 and Preventing material damage → Page 10 sections to ensure that you use the appliance safely. Requirement: The water inlet hose is empty. → \"Emptying the water inlet hose\", Page 54 4. Reinsert the filter. 1. Disconnect the hose from the rear 5. Connect the hose and check for of the appliance. leaks. 1 2 1 2 55 en Troubleshooting T1roubleshooting 9 Troubleshooting TYroubleshooting ou can rectify minor faults on your appliance yourself. Read the troubleshoot- ing information before contacting after-sales service. This will avoid unneces- sary costs. WARNING Risk of electric shock! Incorrect repairs are dangerous. ▶ Repairs to the appliance should only be carried out by trained specialist staff. ▶ Only use genuine spare parts when repairing the appliance. ▶ If the power cord of this appliance is damaged, it must be replaced by the manufacturer, the manufacturer's Customer Service or a similarly qualified person in order to prevent any risk. Fault Cause and troubleshooting The display goes out Energy-saving mode is active and Start/Reload ▶ Press any button. flashes. aThe symbol lights up again. \"E:30 / -80\" Drain pipe or water outlet hose is blocked. ▶ Clean the drain pipe and the water outlet hose. Drain pipe or water drain hose is caught or jammed. ▶ Ensure that the drain pipe and water drain hose are not kinked or trapped. Drain pump is blocked. ▶ → \"Cleaning the drain pump\", Page 50 The water outlet hose is connected too high. ▶ Install the water outlet hose at a maximum height of 1 metre. Pump cover is not correctly assembled. ▶ Correctly assemble the pump cover. Detergent dosage is too high. ▶ Immediate measure: Mix one tablespoon of fabric softener with 0.5 litres of water and pour the mix- ture into the compartment for manual dosing (not for outdoor clothing, sportswear or items stuffed with down). ▶ If intelligent dosing is activated, reduce the basic dosage → Page 42. ▶ If you dose manually, reduce the amount of deter- gent for the next washing cycle with the same load. 56 Troubleshooting en Fault Cause and troubleshooting \"E:30 / -80\" Unapproved extension installed on the water drain hose. ▶ Remove any unapproved extensions from the water hose. Connecting \n",
      "```json\n",
      "{\n",
      "    \"Error Codes\": [\n",
      "        {\n",
      "            \"Code\": \"E:30 / -80\",\n",
      "            \"Description\": \"Drain pipe or water outlet hose is blocked.\"\n",
      "        },\n",
      "        {\n",
      "            \"Code\": \"E:30 / -80\",\n",
      "            \"Description\": \"Unapproved extension installed on the water drain hose.\"\n",
      "        }\n",
      "    ]\n",
      "}\n",
      "```\n",
      "\n",
      "\n",
      "\n"
     ]
    },
    {
     "name": "stderr",
     "output_type": "stream",
     "text": [
      "Burning through the cash:  20%|██        | 4/20 [00:09<00:39,  2.45s/it]"
     ]
    },
    {
     "name": "stdout",
     "output_type": "stream",
     "text": [
      "Chunk: \n",
      " he detergent drawer and 10.Clean the inside of the detergent the lid with a soft, damp cloth or drawer housing. hand shower. 11.Push in the detergent drawer. 9. Dry the detergent drawer, lid and pump unit and reinsert them. 18.4 Descaling ATTENTION! The use of unsuitable descaling agents, e.g. for coffee machines, may damage the appliance. ▶ For this appliance, only use de- scaling agents that are available from the manufacturer's website or our after-sales service. 18.5 Cleaning the drain pump Clean the drain pump in the event of faults, e.g. blockages or rattling noises. Emptying the drain pump Note: Please read the information in the Safety → Page 4 and Preventing material damage → Page 10 sections to ensure that you use the appliance safely. 1. Turn off the water tap. 2. Switch off the appliance. 3. Disconnect the appliance's mains plug from the power supply. 50 Cleaning and servicing en 4. Open the maintenance flap. 7. Take the drain hose out of the holder. 5. Remove the maintenance flap. 8. CAUTION - Risk of scalding! When you wash at high temperat- ures, the detergent solution gets hot. ▶ Do not touch the hot detergent solution. To allow the detergent solution to flow out into the container, remove the sealing cap. 6. Slide a sufficiently large receptacle under the opening. 9. Firmly press on the sealing cap. 51 en Cleaning and servicing 10.Insert the drain hose into the 2. Clean the interior, the thread on holder. the pump cap and the pump hous- ing. Cleaning the drain pump The pump cap is comprised of two Note: Please read the information in parts which can be taken apart for the Safety → Page 4 and Preventing cleaning. material damage → Page 10 sections 3. Ensure that both impellers can to ensure that you use the appliance turn. safely. Requirement: The drain pump is empty. → Page 50 1. Since water may remain in the drain pump, remove the pump cap carefully. 4. Insert the pump cap. ‒ Ensure that the parts of the pump cap are correctly as- sembled. 52 Cleaning and servicing en 5. Insert the pump cap and screw it 2. Check the intake opening for on as far as it will go. blockages and remove any block- ages. 90° The handle on the pump cap must be in a vertical position. Note: Do not use any sharp or poin- 6. Insert the maintenance flap and ted objects. lock it into place. 18.7 Cleaning the water outlet hose at the siphon 1. Switch off the appliance. 2. Disconnect the appliance's mains plug from the power supply. 3. Loosen the hose clamp and care- fully remove the water outlet hose. 1 2 7. Close the maintenance flap. 18.6 Cleaning the intake opening in the rubber gasket Regularly check the intake opening in the rubber gasket for any block- ages and clean the intake opening. Residual water may leak out. 1. Open the door. 53 en Cleaning and servicing 4. Clean the water outlet hose and si- Cleaning the filter on the tap phon connecting piece. Note: Please read the information in the Safety → Page 4 and Preventing material damage → Page 10 sections to ensure that you use the appliance safely. Requirement: The water inlet hose is empty. 1. Remove the water inlet hose from the tap. 5. Reattach the water outlet hose and secure the connection point using the hose clamp. 2. Clean the filter with a small brush. 18.8 Clean the water inlet fil- ters. Emptying the water inlet hose 1. Turn off the tap. 2. Set the Cottons programme. 3. Start the programme and leave it to run for approx. 70 seconds. 4. Switch off the appliance. 5. Disconnect the appliance's mains plug from the power supply. 54 Cleaning and servicing en 3. Connect the water inlet hose and 2. Use pliers to remove the filter. check for leaks. 3. Clean the filter with a small brush. Cleaning the filter on the appliance Note: Please read the information in the Safety → Page 4 and Preventing material damage → Page 10 sections to ensure that you use the appliance safely. Requirement: The water inlet hose is empty. → \"Emptying the water inlet hose\", Page 54 4. Reinsert the filter. 1. Disconnect the hose from the rear 5. Connect the hose and check for of the appliance. leaks. 1 2 1 2 55 en Troubleshooting T1roubleshooting 9 Troubleshooting TYroubleshooting ou can rectify minor faults on your appliance yourself. Read the troubleshoot- ing information before contacting after-sales service. This will avoid unneces- sary costs. WARNING Risk of electric shock! Incorrect repairs are dangerous. ▶ Repairs to the appliance should only be carried out by trained specialist staff. ▶ Only use genuine spare parts when repairing the appliance. ▶ If the power cord of this appliance is damaged, it must be replaced by the manufacturer, the manufacturer's Customer Service or a similarly qualified person in order to prevent any risk. Fault Cause and troubleshooting The display goes out Energy-saving mode is active and Start/Reload ▶ Press any button. flashes. aThe symbol lights up again. \"E:30 / -80\" Drain pipe or water outlet hose is blocked. ▶ Clean the drain pipe and the water outlet hose. Drain pipe or water drain hose is caught or jammed. ▶ Ensure that the drain pipe and water drain hose are not kinked or trapped. Drain pump is blocked. ▶ → \"Cleaning the drain pump\", Page 50 The water outlet hose is connected too high. ▶ Install the water outlet hose at a maximum height of 1 metre. Pump cover is not correctly assembled. ▶ Correctly assemble the pump cover. Detergent dosage is too high. ▶ Immediate measure: Mix one tablespoon of fabric softener with 0.5 litres of water and pour the mix- ture into the compartment for manual dosing (not for outdoor clothing, sportswear or items stuffed with down). ▶ If intelligent dosing is activated, reduce the basic dosage → Page 42. ▶ If you dose manually, reduce the amount of deter- gent for the next washing cycle with the same load. 56 Troubleshooting en Fault Cause and troubleshooting \"E:30 / -80\" Unapproved extension installed on the water drain hose. ▶ Remove any unapproved extensions from the water hose. Connecting \n",
      "```json\n",
      "{\n",
      "    \"Error Codes\": [\n",
      "        {\n",
      "            \"Code\": \"E:30 / -80\",\n",
      "            \"Description\": \"Drain pipe or water outlet hose is blocked. Clean the drain pipe and the water outlet hose. Ensure that the drain pipe and water drain hose are not kinked or trapped. Drain pump is blocked. Install the water outlet hose at a maximum height of 1 metre. Correctly assemble the pump cover. Detergent dosage is too high. Remove any unapproved extensions from the water hose.\"\n",
      "        }\n",
      "    ]\n",
      "}\n",
      "```\n",
      "\n",
      "\n",
      "\n"
     ]
    },
    {
     "name": "stderr",
     "output_type": "stream",
     "text": [
      "Burning through the cash:  25%|██▌       | 5/20 [00:11<00:36,  2.42s/it]"
     ]
    },
    {
     "name": "stdout",
     "output_type": "stream",
     "text": [
      "Chunk: \n",
      " he detergent drawer and 10.Clean the inside of the detergent the lid with a soft, damp cloth or drawer housing. hand shower. 11.Push in the detergent drawer. 9. Dry the detergent drawer, lid and pump unit and reinsert them. 18.4 Descaling ATTENTION! The use of unsuitable descaling agents, e.g. for coffee machines, may damage the appliance. ▶ For this appliance, only use de- scaling agents that are available from the manufacturer's website or our after-sales service. 18.5 Cleaning the drain pump Clean the drain pump in the event of faults, e.g. blockages or rattling noises. Emptying the drain pump Note: Please read the information in the Safety → Page 4 and Preventing material damage → Page 10 sections to ensure that you use the appliance safely. 1. Turn off the water tap. 2. Switch off the appliance. 3. Disconnect the appliance's mains plug from the power supply. 50 Cleaning and servicing en 4. Open the maintenance flap. 7. Take the drain hose out of the holder. 5. Remove the maintenance flap. 8. CAUTION - Risk of scalding! When you wash at high temperat- ures, the detergent solution gets hot. ▶ Do not touch the hot detergent solution. To allow the detergent solution to flow out into the container, remove the sealing cap. 6. Slide a sufficiently large receptacle under the opening. 9. Firmly press on the sealing cap. 51 en Cleaning and servicing 10.Insert the drain hose into the 2. Clean the interior, the thread on holder. the pump cap and the pump hous- ing. Cleaning the drain pump The pump cap is comprised of two Note: Please read the information in parts which can be taken apart for the Safety → Page 4 and Preventing cleaning. material damage → Page 10 sections 3. Ensure that both impellers can to ensure that you use the appliance turn. safely. Requirement: The drain pump is empty. → Page 50 1. Since water may remain in the drain pump, remove the pump cap carefully. 4. Insert the pump cap. ‒ Ensure that the parts of the pump cap are correctly as- sembled. 52 Cleaning and servicing en 5. Insert the pump cap and screw it 2. Check the intake opening for on as far as it will go. blockages and remove any block- ages. 90° The handle on the pump cap must be in a vertical position. Note: Do not use any sharp or poin- 6. Insert the maintenance flap and ted objects. lock it into place. 18.7 Cleaning the water outlet hose at the siphon 1. Switch off the appliance. 2. Disconnect the appliance's mains plug from the power supply. 3. Loosen the hose clamp and care- fully remove the water outlet hose. 1 2 7. Close the maintenance flap. 18.6 Cleaning the intake opening in the rubber gasket Regularly check the intake opening in the rubber gasket for any block- ages and clean the intake opening. Residual water may leak out. 1. Open the door. 53 en Cleaning and servicing 4. Clean the water outlet hose and si- Cleaning the filter on the tap phon connecting piece. Note: Please read the information in the Safety → Page 4 and Preventing material damage → Page 10 sections to ensure that you use the appliance safely. Requirement: The water inlet hose is empty. 1. Remove the water inlet hose from the tap. 5. Reattach the water outlet hose and secure the connection point using the hose clamp. 2. Clean the filter with a small brush. 18.8 Clean the water inlet fil- ters. Emptying the water inlet hose 1. Turn off the tap. 2. Set the Cottons programme. 3. Start the programme and leave it to run for approx. 70 seconds. 4. Switch off the appliance. 5. Disconnect the appliance's mains plug from the power supply. 54 Cleaning and servicing en 3. Connect the water inlet hose and 2. Use pliers to remove the filter. check for leaks. 3. Clean the filter with a small brush. Cleaning the filter on the appliance Note: Please read the information in the Safety → Page 4 and Preventing material damage → Page 10 sections to ensure that you use the appliance safely. Requirement: The water inlet hose is empty. → \"Emptying the water inlet hose\", Page 54 4. Reinsert the filter. 1. Disconnect the hose from the rear 5. Connect the hose and check for of the appliance. leaks. 1 2 1 2 55 en Troubleshooting T1roubleshooting 9 Troubleshooting TYroubleshooting ou can rectify minor faults on your appliance yourself. Read the troubleshoot- ing information before contacting after-sales service. This will avoid unneces- sary costs. WARNING Risk of electric shock! Incorrect repairs are dangerous. ▶ Repairs to the appliance should only be carried out by trained specialist staff. ▶ Only use genuine spare parts when repairing the appliance. ▶ If the power cord of this appliance is damaged, it must be replaced by the manufacturer, the manufacturer's Customer Service or a similarly qualified person in order to prevent any risk. Fault Cause and troubleshooting The display goes out Energy-saving mode is active and Start/Reload ▶ Press any button. flashes. aThe symbol lights up again. \"E:30 / -80\" Drain pipe or water outlet hose is blocked. ▶ Clean the drain pipe and the water outlet hose. Drain pipe or water drain hose is caught or jammed. ▶ Ensure that the drain pipe and water drain hose are not kinked or trapped. Drain pump is blocked. ▶ → \"Cleaning the drain pump\", Page 50 The water outlet hose is connected too high. ▶ Install the water outlet hose at a maximum height of 1 metre. Pump cover is not correctly assembled. ▶ Correctly assemble the pump cover. Detergent dosage is too high. ▶ Immediate measure: Mix one tablespoon of fabric softener with 0.5 litres of water and pour the mix- ture into the compartment for manual dosing (not for outdoor clothing, sportswear or items stuffed with down). ▶ If intelligent dosing is activated, reduce the basic dosage → Page 42. ▶ If you dose manually, reduce the amount of deter- gent for the next washing cycle with the same load. 56 Troubleshooting en Fault Cause and troubleshooting \"E:30 / -80\" Unapproved extension installed on the water drain hose. ▶ Remove any unapproved extensions from the water hose. Connecting \n",
      "```json\n",
      "{\n",
      "    \"Error Codes\": [\n",
      "        {\n",
      "            \"Code\": \"E:30 / -80\",\n",
      "            \"Description\": \"Drain pipe or water outlet hose is blocked or has other issues related to installation and assembly.\"\n",
      "        }\n",
      "    ]\n",
      "}\n",
      "```\n",
      "\n",
      "\n",
      "\n"
     ]
    },
    {
     "name": "stderr",
     "output_type": "stream",
     "text": [
      "Burning through the cash:  30%|███       | 6/20 [00:14<00:36,  2.62s/it]"
     ]
    },
    {
     "name": "stdout",
     "output_type": "stream",
     "text": [
      "Chunk: \n",
      " he detergent drawer and 10.Clean the inside of the detergent the lid with a soft, damp cloth or drawer housing. hand shower. 11.Push in the detergent drawer. 9. Dry the detergent drawer, lid and pump unit and reinsert them. 18.4 Descaling ATTENTION! The use of unsuitable descaling agents, e.g. for coffee machines, may damage the appliance. ▶ For this appliance, only use de- scaling agents that are available from the manufacturer's website or our after-sales service. 18.5 Cleaning the drain pump Clean the drain pump in the event of faults, e.g. blockages or rattling noises. Emptying the drain pump Note: Please read the information in the Safety → Page 4 and Preventing material damage → Page 10 sections to ensure that you use the appliance safely. 1. Turn off the water tap. 2. Switch off the appliance. 3. Disconnect the appliance's mains plug from the power supply. 50 Cleaning and servicing en 4. Open the maintenance flap. 7. Take the drain hose out of the holder. 5. Remove the maintenance flap. 8. CAUTION - Risk of scalding! When you wash at high temperat- ures, the detergent solution gets hot. ▶ Do not touch the hot detergent solution. To allow the detergent solution to flow out into the container, remove the sealing cap. 6. Slide a sufficiently large receptacle under the opening. 9. Firmly press on the sealing cap. 51 en Cleaning and servicing 10.Insert the drain hose into the 2. Clean the interior, the thread on holder. the pump cap and the pump hous- ing. Cleaning the drain pump The pump cap is comprised of two Note: Please read the information in parts which can be taken apart for the Safety → Page 4 and Preventing cleaning. material damage → Page 10 sections 3. Ensure that both impellers can to ensure that you use the appliance turn. safely. Requirement: The drain pump is empty. → Page 50 1. Since water may remain in the drain pump, remove the pump cap carefully. 4. Insert the pump cap. ‒ Ensure that the parts of the pump cap are correctly as- sembled. 52 Cleaning and servicing en 5. Insert the pump cap and screw it 2. Check the intake opening for on as far as it will go. blockages and remove any block- ages. 90° The handle on the pump cap must be in a vertical position. Note: Do not use any sharp or poin- 6. Insert the maintenance flap and ted objects. lock it into place. 18.7 Cleaning the water outlet hose at the siphon 1. Switch off the appliance. 2. Disconnect the appliance's mains plug from the power supply. 3. Loosen the hose clamp and care- fully remove the water outlet hose. 1 2 7. Close the maintenance flap. 18.6 Cleaning the intake opening in the rubber gasket Regularly check the intake opening in the rubber gasket for any block- ages and clean the intake opening. Residual water may leak out. 1. Open the door. 53 en Cleaning and servicing 4. Clean the water outlet hose and si- Cleaning the filter on the tap phon connecting piece. Note: Please read the information in the Safety → Page 4 and Preventing material damage → Page 10 sections to ensure that you use the appliance safely. Requirement: The water inlet hose is empty. 1. Remove the water inlet hose from the tap. 5. Reattach the water outlet hose and secure the connection point using the hose clamp. 2. Clean the filter with a small brush. 18.8 Clean the water inlet fil- ters. Emptying the water inlet hose 1. Turn off the tap. 2. Set the Cottons programme. 3. Start the programme and leave it to run for approx. 70 seconds. 4. Switch off the appliance. 5. Disconnect the appliance's mains plug from the power supply. 54 Cleaning and servicing en 3. Connect the water inlet hose and 2. Use pliers to remove the filter. check for leaks. 3. Clean the filter with a small brush. Cleaning the filter on the appliance Note: Please read the information in the Safety → Page 4 and Preventing material damage → Page 10 sections to ensure that you use the appliance safely. Requirement: The water inlet hose is empty. → \"Emptying the water inlet hose\", Page 54 4. Reinsert the filter. 1. Disconnect the hose from the rear 5. Connect the hose and check for of the appliance. leaks. 1 2 1 2 55 en Troubleshooting T1roubleshooting 9 Troubleshooting TYroubleshooting ou can rectify minor faults on your appliance yourself. Read the troubleshoot- ing information before contacting after-sales service. This will avoid unneces- sary costs. WARNING Risk of electric shock! Incorrect repairs are dangerous. ▶ Repairs to the appliance should only be carried out by trained specialist staff. ▶ Only use genuine spare parts when repairing the appliance. ▶ If the power cord of this appliance is damaged, it must be replaced by the manufacturer, the manufacturer's Customer Service or a similarly qualified person in order to prevent any risk. Fault Cause and troubleshooting The display goes out Energy-saving mode is active and Start/Reload ▶ Press any button. flashes. aThe symbol lights up again. \"E:30 / -80\" Drain pipe or water outlet hose is blocked. ▶ Clean the drain pipe and the water outlet hose. Drain pipe or water drain hose is caught or jammed. ▶ Ensure that the drain pipe and water drain hose are not kinked or trapped. Drain pump is blocked. ▶ → \"Cleaning the drain pump\", Page 50 The water outlet hose is connected too high. ▶ Install the water outlet hose at a maximum height of 1 metre. Pump cover is not correctly assembled. ▶ Correctly assemble the pump cover. Detergent dosage is too high. ▶ Immediate measure: Mix one tablespoon of fabric softener with 0.5 litres of water and pour the mix- ture into the compartment for manual dosing (not for outdoor clothing, sportswear or items stuffed with down). ▶ If intelligent dosing is activated, reduce the basic dosage → Page 42. ▶ If you dose manually, reduce the amount of deter- gent for the next washing cycle with the same load. 56 Troubleshooting en Fault Cause and troubleshooting \"E:30 / -80\" Unapproved extension installed on the water drain hose. ▶ Remove any unapproved extensions from the water hose. Connecting \n",
      "```json\n",
      "{\n",
      "    \"Error Codes\": [\n",
      "        {\n",
      "            \"Code\": \"E:30 / -80\",\n",
      "            \"Description\": \"Drain pipe or water outlet hose is blocked; Ensure the drain pipe and water drain hose are not kinked or trapped; Drain pump is blocked; Water outlet hose is installed too high; Pump cover is not correctly assembled; Detergent dosage is too high; Unapproved extension on the water drain hose.\"\n",
      "        }\n",
      "    ]\n",
      "}\n",
      "```\n",
      "\n",
      "\n",
      "\n"
     ]
    },
    {
     "name": "stderr",
     "output_type": "stream",
     "text": [
      "Burning through the cash:  35%|███▌      | 7/20 [00:17<00:33,  2.56s/it]"
     ]
    },
    {
     "name": "stdout",
     "output_type": "stream",
     "text": [
      "Chunk: \n",
      " he detergent drawer and 10.Clean the inside of the detergent the lid with a soft, damp cloth or drawer housing. hand shower. 11.Push in the detergent drawer. 9. Dry the detergent drawer, lid and pump unit and reinsert them. 18.4 Descaling ATTENTION! The use of unsuitable descaling agents, e.g. for coffee machines, may damage the appliance. ▶ For this appliance, only use de- scaling agents that are available from the manufacturer's website or our after-sales service. 18.5 Cleaning the drain pump Clean the drain pump in the event of faults, e.g. blockages or rattling noises. Emptying the drain pump Note: Please read the information in the Safety → Page 4 and Preventing material damage → Page 10 sections to ensure that you use the appliance safely. 1. Turn off the water tap. 2. Switch off the appliance. 3. Disconnect the appliance's mains plug from the power supply. 50 Cleaning and servicing en 4. Open the maintenance flap. 7. Take the drain hose out of the holder. 5. Remove the maintenance flap. 8. CAUTION - Risk of scalding! When you wash at high temperat- ures, the detergent solution gets hot. ▶ Do not touch the hot detergent solution. To allow the detergent solution to flow out into the container, remove the sealing cap. 6. Slide a sufficiently large receptacle under the opening. 9. Firmly press on the sealing cap. 51 en Cleaning and servicing 10.Insert the drain hose into the 2. Clean the interior, the thread on holder. the pump cap and the pump hous- ing. Cleaning the drain pump The pump cap is comprised of two Note: Please read the information in parts which can be taken apart for the Safety → Page 4 and Preventing cleaning. material damage → Page 10 sections 3. Ensure that both impellers can to ensure that you use the appliance turn. safely. Requirement: The drain pump is empty. → Page 50 1. Since water may remain in the drain pump, remove the pump cap carefully. 4. Insert the pump cap. ‒ Ensure that the parts of the pump cap are correctly as- sembled. 52 Cleaning and servicing en 5. Insert the pump cap and screw it 2. Check the intake opening for on as far as it will go. blockages and remove any block- ages. 90° The handle on the pump cap must be in a vertical position. Note: Do not use any sharp or poin- 6. Insert the maintenance flap and ted objects. lock it into place. 18.7 Cleaning the water outlet hose at the siphon 1. Switch off the appliance. 2. Disconnect the appliance's mains plug from the power supply. 3. Loosen the hose clamp and care- fully remove the water outlet hose. 1 2 7. Close the maintenance flap. 18.6 Cleaning the intake opening in the rubber gasket Regularly check the intake opening in the rubber gasket for any block- ages and clean the intake opening. Residual water may leak out. 1. Open the door. 53 en Cleaning and servicing 4. Clean the water outlet hose and si- Cleaning the filter on the tap phon connecting piece. Note: Please read the information in the Safety → Page 4 and Preventing material damage → Page 10 sections to ensure that you use the appliance safely. Requirement: The water inlet hose is empty. 1. Remove the water inlet hose from the tap. 5. Reattach the water outlet hose and secure the connection point using the hose clamp. 2. Clean the filter with a small brush. 18.8 Clean the water inlet fil- ters. Emptying the water inlet hose 1. Turn off the tap. 2. Set the Cottons programme. 3. Start the programme and leave it to run for approx. 70 seconds. 4. Switch off the appliance. 5. Disconnect the appliance's mains plug from the power supply. 54 Cleaning and servicing en 3. Connect the water inlet hose and 2. Use pliers to remove the filter. check for leaks. 3. Clean the filter with a small brush. Cleaning the filter on the appliance Note: Please read the information in the Safety → Page 4 and Preventing material damage → Page 10 sections to ensure that you use the appliance safely. Requirement: The water inlet hose is empty. → \"Emptying the water inlet hose\", Page 54 4. Reinsert the filter. 1. Disconnect the hose from the rear 5. Connect the hose and check for of the appliance. leaks. 1 2 1 2 55 en Troubleshooting T1roubleshooting 9 Troubleshooting TYroubleshooting ou can rectify minor faults on your appliance yourself. Read the troubleshoot- ing information before contacting after-sales service. This will avoid unneces- sary costs. WARNING Risk of electric shock! Incorrect repairs are dangerous. ▶ Repairs to the appliance should only be carried out by trained specialist staff. ▶ Only use genuine spare parts when repairing the appliance. ▶ If the power cord of this appliance is damaged, it must be replaced by the manufacturer, the manufacturer's Customer Service or a similarly qualified person in order to prevent any risk. Fault Cause and troubleshooting The display goes out Energy-saving mode is active and Start/Reload ▶ Press any button. flashes. aThe symbol lights up again. \"E:30 / -80\" Drain pipe or water outlet hose is blocked. ▶ Clean the drain pipe and the water outlet hose. Drain pipe or water drain hose is caught or jammed. ▶ Ensure that the drain pipe and water drain hose are not kinked or trapped. Drain pump is blocked. ▶ → \"Cleaning the drain pump\", Page 50 The water outlet hose is connected too high. ▶ Install the water outlet hose at a maximum height of 1 metre. Pump cover is not correctly assembled. ▶ Correctly assemble the pump cover. Detergent dosage is too high. ▶ Immediate measure: Mix one tablespoon of fabric softener with 0.5 litres of water and pour the mix- ture into the compartment for manual dosing (not for outdoor clothing, sportswear or items stuffed with down). ▶ If intelligent dosing is activated, reduce the basic dosage → Page 42. ▶ If you dose manually, reduce the amount of deter- gent for the next washing cycle with the same load. 56 Troubleshooting en Fault Cause and troubleshooting \"E:30 / -80\" Unapproved extension installed on the water drain hose. ▶ Remove any unapproved extensions from the water hose. Connecting \n",
      "```json\n",
      "{\n",
      "    \"Error Codes\": [\n",
      "        {\n",
      "            \"Code\": \"E:30 / -80\",\n",
      "            \"Description\": \"Drain pipe or water outlet hose is blocked.\"\n",
      "        },\n",
      "        {\n",
      "            \"Code\": \"E:30 / -80\",\n",
      "            \"Description\": \"Unapproved extension installed on the water drain hose.\"\n",
      "        }\n",
      "    ]\n",
      "}\n",
      "```\n",
      "\n",
      "\n",
      "\n"
     ]
    },
    {
     "name": "stderr",
     "output_type": "stream",
     "text": [
      "Burning through the cash:  40%|████      | 8/20 [00:22<00:39,  3.30s/it]"
     ]
    },
    {
     "name": "stdout",
     "output_type": "stream",
     "text": [
      "Chunk: \n",
      " he detergent drawer and 10.Clean the inside of the detergent the lid with a soft, damp cloth or drawer housing. hand shower. 11.Push in the detergent drawer. 9. Dry the detergent drawer, lid and pump unit and reinsert them. 18.4 Descaling ATTENTION! The use of unsuitable descaling agents, e.g. for coffee machines, may damage the appliance. ▶ For this appliance, only use de- scaling agents that are available from the manufacturer's website or our after-sales service. 18.5 Cleaning the drain pump Clean the drain pump in the event of faults, e.g. blockages or rattling noises. Emptying the drain pump Note: Please read the information in the Safety → Page 4 and Preventing material damage → Page 10 sections to ensure that you use the appliance safely. 1. Turn off the water tap. 2. Switch off the appliance. 3. Disconnect the appliance's mains plug from the power supply. 50 Cleaning and servicing en 4. Open the maintenance flap. 7. Take the drain hose out of the holder. 5. Remove the maintenance flap. 8. CAUTION - Risk of scalding! When you wash at high temperat- ures, the detergent solution gets hot. ▶ Do not touch the hot detergent solution. To allow the detergent solution to flow out into the container, remove the sealing cap. 6. Slide a sufficiently large receptacle under the opening. 9. Firmly press on the sealing cap. 51 en Cleaning and servicing 10.Insert the drain hose into the 2. Clean the interior, the thread on holder. the pump cap and the pump hous- ing. Cleaning the drain pump The pump cap is comprised of two Note: Please read the information in parts which can be taken apart for the Safety → Page 4 and Preventing cleaning. material damage → Page 10 sections 3. Ensure that both impellers can to ensure that you use the appliance turn. safely. Requirement: The drain pump is empty. → Page 50 1. Since water may remain in the drain pump, remove the pump cap carefully. 4. Insert the pump cap. ‒ Ensure that the parts of the pump cap are correctly as- sembled. 52 Cleaning and servicing en 5. Insert the pump cap and screw it 2. Check the intake opening for on as far as it will go. blockages and remove any block- ages. 90° The handle on the pump cap must be in a vertical position. Note: Do not use any sharp or poin- 6. Insert the maintenance flap and ted objects. lock it into place. 18.7 Cleaning the water outlet hose at the siphon 1. Switch off the appliance. 2. Disconnect the appliance's mains plug from the power supply. 3. Loosen the hose clamp and care- fully remove the water outlet hose. 1 2 7. Close the maintenance flap. 18.6 Cleaning the intake opening in the rubber gasket Regularly check the intake opening in the rubber gasket for any block- ages and clean the intake opening. Residual water may leak out. 1. Open the door. 53 en Cleaning and servicing 4. Clean the water outlet hose and si- Cleaning the filter on the tap phon connecting piece. Note: Please read the information in the Safety → Page 4 and Preventing material damage → Page 10 sections to ensure that you use the appliance safely. Requirement: The water inlet hose is empty. 1. Remove the water inlet hose from the tap. 5. Reattach the water outlet hose and secure the connection point using the hose clamp. 2. Clean the filter with a small brush. 18.8 Clean the water inlet fil- ters. Emptying the water inlet hose 1. Turn off the tap. 2. Set the Cottons programme. 3. Start the programme and leave it to run for approx. 70 seconds. 4. Switch off the appliance. 5. Disconnect the appliance's mains plug from the power supply. 54 Cleaning and servicing en 3. Connect the water inlet hose and 2. Use pliers to remove the filter. check for leaks. 3. Clean the filter with a small brush. Cleaning the filter on the appliance Note: Please read the information in the Safety → Page 4 and Preventing material damage → Page 10 sections to ensure that you use the appliance safely. Requirement: The water inlet hose is empty. → \"Emptying the water inlet hose\", Page 54 4. Reinsert the filter. 1. Disconnect the hose from the rear 5. Connect the hose and check for of the appliance. leaks. 1 2 1 2 55 en Troubleshooting T1roubleshooting 9 Troubleshooting TYroubleshooting ou can rectify minor faults on your appliance yourself. Read the troubleshoot- ing information before contacting after-sales service. This will avoid unneces- sary costs. WARNING Risk of electric shock! Incorrect repairs are dangerous. ▶ Repairs to the appliance should only be carried out by trained specialist staff. ▶ Only use genuine spare parts when repairing the appliance. ▶ If the power cord of this appliance is damaged, it must be replaced by the manufacturer, the manufacturer's Customer Service or a similarly qualified person in order to prevent any risk. Fault Cause and troubleshooting The display goes out Energy-saving mode is active and Start/Reload ▶ Press any button. flashes. aThe symbol lights up again. \"E:30 / -80\" Drain pipe or water outlet hose is blocked. ▶ Clean the drain pipe and the water outlet hose. Drain pipe or water drain hose is caught or jammed. ▶ Ensure that the drain pipe and water drain hose are not kinked or trapped. Drain pump is blocked. ▶ → \"Cleaning the drain pump\", Page 50 The water outlet hose is connected too high. ▶ Install the water outlet hose at a maximum height of 1 metre. Pump cover is not correctly assembled. ▶ Correctly assemble the pump cover. Detergent dosage is too high. ▶ Immediate measure: Mix one tablespoon of fabric softener with 0.5 litres of water and pour the mix- ture into the compartment for manual dosing (not for outdoor clothing, sportswear or items stuffed with down). ▶ If intelligent dosing is activated, reduce the basic dosage → Page 42. ▶ If you dose manually, reduce the amount of deter- gent for the next washing cycle with the same load. 56 Troubleshooting en Fault Cause and troubleshooting \"E:30 / -80\" Unapproved extension installed on the water drain hose. ▶ Remove any unapproved extensions from the water hose. Connecting \n",
      "```json\n",
      "{\n",
      "    \"Error Codes\": [\n",
      "        {\n",
      "            \"Code\": \"E:30 / -80\",\n",
      "            \"Description\": \"Drain pipe or water outlet hose is blocked. Clean the drain pipe and the water outlet hose.\"\n",
      "        },\n",
      "        {\n",
      "            \"Code\": \"E:30 / -80\",\n",
      "            \"Description\": \"Drain pipe or water drain hose is caught or jammed. Ensure that the drain pipe and water drain hose are not kinked or trapped.\"\n",
      "        },\n",
      "        {\n",
      "            \"Code\": \"E:30 / -80\",\n",
      "            \"Description\": \"Drain pump is blocked. See 'Cleaning the drain pump', Page 50.\"\n",
      "        },\n",
      "        {\n",
      "            \"Code\": \"E:30 / -80\",\n",
      "            \"Description\": \"The water outlet hose is connected too high. Install the water outlet hose at a maximum height of 1 metre.\"\n",
      "        },\n",
      "        {\n",
      "            \"Code\": \"E:30 / -80\",\n",
      "            \"Description\": \"Pump cover is not correctly assembled. Correctly assemble the pump cover.\"\n",
      "        },\n",
      "        {\n",
      "            \"Code\": \"E:30 / -80\",\n",
      "            \"Description\": \"Detergent dosage is too high. Immediate measure: Mix one tablespoon of fabric softener with 0.5 litres of water and pour the mixture into the compartment for manual dosing. If intelligent dosing is activated, reduce the basic dosage. If you dose manually, reduce the amount of detergent for the next washing cycle with the same load.\"\n",
      "        },\n",
      "        {\n",
      "            \"Code\": \"E:30 / -80\",\n",
      "            \"Description\": \"Unapproved extension installed on the water drain hose. Remove any unapproved extensions from the water hose.\"\n",
      "        }\n",
      "    ]\n",
      "}\n",
      "```\n",
      "\n",
      "\n",
      "\n"
     ]
    },
    {
     "name": "stderr",
     "output_type": "stream",
     "text": [
      "Burning through the cash:  45%|████▌     | 9/20 [00:24<00:33,  3.01s/it]"
     ]
    },
    {
     "name": "stdout",
     "output_type": "stream",
     "text": [
      "Chunk: \n",
      " he detergent drawer and 10.Clean the inside of the detergent the lid with a soft, damp cloth or drawer housing. hand shower. 11.Push in the detergent drawer. 9. Dry the detergent drawer, lid and pump unit and reinsert them. 18.4 Descaling ATTENTION! The use of unsuitable descaling agents, e.g. for coffee machines, may damage the appliance. ▶ For this appliance, only use de- scaling agents that are available from the manufacturer's website or our after-sales service. 18.5 Cleaning the drain pump Clean the drain pump in the event of faults, e.g. blockages or rattling noises. Emptying the drain pump Note: Please read the information in the Safety → Page 4 and Preventing material damage → Page 10 sections to ensure that you use the appliance safely. 1. Turn off the water tap. 2. Switch off the appliance. 3. Disconnect the appliance's mains plug from the power supply. 50 Cleaning and servicing en 4. Open the maintenance flap. 7. Take the drain hose out of the holder. 5. Remove the maintenance flap. 8. CAUTION - Risk of scalding! When you wash at high temperat- ures, the detergent solution gets hot. ▶ Do not touch the hot detergent solution. To allow the detergent solution to flow out into the container, remove the sealing cap. 6. Slide a sufficiently large receptacle under the opening. 9. Firmly press on the sealing cap. 51 en Cleaning and servicing 10.Insert the drain hose into the 2. Clean the interior, the thread on holder. the pump cap and the pump hous- ing. Cleaning the drain pump The pump cap is comprised of two Note: Please read the information in parts which can be taken apart for the Safety → Page 4 and Preventing cleaning. material damage → Page 10 sections 3. Ensure that both impellers can to ensure that you use the appliance turn. safely. Requirement: The drain pump is empty. → Page 50 1. Since water may remain in the drain pump, remove the pump cap carefully. 4. Insert the pump cap. ‒ Ensure that the parts of the pump cap are correctly as- sembled. 52 Cleaning and servicing en 5. Insert the pump cap and screw it 2. Check the intake opening for on as far as it will go. blockages and remove any block- ages. 90° The handle on the pump cap must be in a vertical position. Note: Do not use any sharp or poin- 6. Insert the maintenance flap and ted objects. lock it into place. 18.7 Cleaning the water outlet hose at the siphon 1. Switch off the appliance. 2. Disconnect the appliance's mains plug from the power supply. 3. Loosen the hose clamp and care- fully remove the water outlet hose. 1 2 7. Close the maintenance flap. 18.6 Cleaning the intake opening in the rubber gasket Regularly check the intake opening in the rubber gasket for any block- ages and clean the intake opening. Residual water may leak out. 1. Open the door. 53 en Cleaning and servicing 4. Clean the water outlet hose and si- Cleaning the filter on the tap phon connecting piece. Note: Please read the information in the Safety → Page 4 and Preventing material damage → Page 10 sections to ensure that you use the appliance safely. Requirement: The water inlet hose is empty. 1. Remove the water inlet hose from the tap. 5. Reattach the water outlet hose and secure the connection point using the hose clamp. 2. Clean the filter with a small brush. 18.8 Clean the water inlet fil- ters. Emptying the water inlet hose 1. Turn off the tap. 2. Set the Cottons programme. 3. Start the programme and leave it to run for approx. 70 seconds. 4. Switch off the appliance. 5. Disconnect the appliance's mains plug from the power supply. 54 Cleaning and servicing en 3. Connect the water inlet hose and 2. Use pliers to remove the filter. check for leaks. 3. Clean the filter with a small brush. Cleaning the filter on the appliance Note: Please read the information in the Safety → Page 4 and Preventing material damage → Page 10 sections to ensure that you use the appliance safely. Requirement: The water inlet hose is empty. → \"Emptying the water inlet hose\", Page 54 4. Reinsert the filter. 1. Disconnect the hose from the rear 5. Connect the hose and check for of the appliance. leaks. 1 2 1 2 55 en Troubleshooting T1roubleshooting 9 Troubleshooting TYroubleshooting ou can rectify minor faults on your appliance yourself. Read the troubleshoot- ing information before contacting after-sales service. This will avoid unneces- sary costs. WARNING Risk of electric shock! Incorrect repairs are dangerous. ▶ Repairs to the appliance should only be carried out by trained specialist staff. ▶ Only use genuine spare parts when repairing the appliance. ▶ If the power cord of this appliance is damaged, it must be replaced by the manufacturer, the manufacturer's Customer Service or a similarly qualified person in order to prevent any risk. Fault Cause and troubleshooting The display goes out Energy-saving mode is active and Start/Reload ▶ Press any button. flashes. aThe symbol lights up again. \"E:30 / -80\" Drain pipe or water outlet hose is blocked. ▶ Clean the drain pipe and the water outlet hose. Drain pipe or water drain hose is caught or jammed. ▶ Ensure that the drain pipe and water drain hose are not kinked or trapped. Drain pump is blocked. ▶ → \"Cleaning the drain pump\", Page 50 The water outlet hose is connected too high. ▶ Install the water outlet hose at a maximum height of 1 metre. Pump cover is not correctly assembled. ▶ Correctly assemble the pump cover. Detergent dosage is too high. ▶ Immediate measure: Mix one tablespoon of fabric softener with 0.5 litres of water and pour the mix- ture into the compartment for manual dosing (not for outdoor clothing, sportswear or items stuffed with down). ▶ If intelligent dosing is activated, reduce the basic dosage → Page 42. ▶ If you dose manually, reduce the amount of deter- gent for the next washing cycle with the same load. 56 Troubleshooting en Fault Cause and troubleshooting \"E:30 / -80\" Unapproved extension installed on the water drain hose. ▶ Remove any unapproved extensions from the water hose. Connecting \n",
      "```json\n",
      "{\n",
      "    \"Error Codes\": [\n",
      "        {\n",
      "            \"Code\": \"E:30 / -80\",\n",
      "            \"Description\": \"Drain pipe or water outlet hose is blocked. Clean the drain pipe and water outlet hose. Ensure that the pipes are not kinked or jammed. The pump cover may not be correctly assembled or detergent dosage might be too high. Remove any water drain hose extensions.\"\n",
      "        }\n",
      "    ]\n",
      "}\n",
      "```\n",
      "\n",
      "\n",
      "\n"
     ]
    },
    {
     "name": "stderr",
     "output_type": "stream",
     "text": [
      "Burning through the cash:  50%|█████     | 10/20 [00:28<00:32,  3.21s/it]"
     ]
    },
    {
     "name": "stdout",
     "output_type": "stream",
     "text": [
      "Chunk: \n",
      " he detergent drawer and 10.Clean the inside of the detergent the lid with a soft, damp cloth or drawer housing. hand shower. 11.Push in the detergent drawer. 9. Dry the detergent drawer, lid and pump unit and reinsert them. 18.4 Descaling ATTENTION! The use of unsuitable descaling agents, e.g. for coffee machines, may damage the appliance. ▶ For this appliance, only use de- scaling agents that are available from the manufacturer's website or our after-sales service. 18.5 Cleaning the drain pump Clean the drain pump in the event of faults, e.g. blockages or rattling noises. Emptying the drain pump Note: Please read the information in the Safety → Page 4 and Preventing material damage → Page 10 sections to ensure that you use the appliance safely. 1. Turn off the water tap. 2. Switch off the appliance. 3. Disconnect the appliance's mains plug from the power supply. 50 Cleaning and servicing en 4. Open the maintenance flap. 7. Take the drain hose out of the holder. 5. Remove the maintenance flap. 8. CAUTION - Risk of scalding! When you wash at high temperat- ures, the detergent solution gets hot. ▶ Do not touch the hot detergent solution. To allow the detergent solution to flow out into the container, remove the sealing cap. 6. Slide a sufficiently large receptacle under the opening. 9. Firmly press on the sealing cap. 51 en Cleaning and servicing 10.Insert the drain hose into the 2. Clean the interior, the thread on holder. the pump cap and the pump hous- ing. Cleaning the drain pump The pump cap is comprised of two Note: Please read the information in parts which can be taken apart for the Safety → Page 4 and Preventing cleaning. material damage → Page 10 sections 3. Ensure that both impellers can to ensure that you use the appliance turn. safely. Requirement: The drain pump is empty. → Page 50 1. Since water may remain in the drain pump, remove the pump cap carefully. 4. Insert the pump cap. ‒ Ensure that the parts of the pump cap are correctly as- sembled. 52 Cleaning and servicing en 5. Insert the pump cap and screw it 2. Check the intake opening for on as far as it will go. blockages and remove any block- ages. 90° The handle on the pump cap must be in a vertical position. Note: Do not use any sharp or poin- 6. Insert the maintenance flap and ted objects. lock it into place. 18.7 Cleaning the water outlet hose at the siphon 1. Switch off the appliance. 2. Disconnect the appliance's mains plug from the power supply. 3. Loosen the hose clamp and care- fully remove the water outlet hose. 1 2 7. Close the maintenance flap. 18.6 Cleaning the intake opening in the rubber gasket Regularly check the intake opening in the rubber gasket for any block- ages and clean the intake opening. Residual water may leak out. 1. Open the door. 53 en Cleaning and servicing 4. Clean the water outlet hose and si- Cleaning the filter on the tap phon connecting piece. Note: Please read the information in the Safety → Page 4 and Preventing material damage → Page 10 sections to ensure that you use the appliance safely. Requirement: The water inlet hose is empty. 1. Remove the water inlet hose from the tap. 5. Reattach the water outlet hose and secure the connection point using the hose clamp. 2. Clean the filter with a small brush. 18.8 Clean the water inlet fil- ters. Emptying the water inlet hose 1. Turn off the tap. 2. Set the Cottons programme. 3. Start the programme and leave it to run for approx. 70 seconds. 4. Switch off the appliance. 5. Disconnect the appliance's mains plug from the power supply. 54 Cleaning and servicing en 3. Connect the water inlet hose and 2. Use pliers to remove the filter. check for leaks. 3. Clean the filter with a small brush. Cleaning the filter on the appliance Note: Please read the information in the Safety → Page 4 and Preventing material damage → Page 10 sections to ensure that you use the appliance safely. Requirement: The water inlet hose is empty. → \"Emptying the water inlet hose\", Page 54 4. Reinsert the filter. 1. Disconnect the hose from the rear 5. Connect the hose and check for of the appliance. leaks. 1 2 1 2 55 en Troubleshooting T1roubleshooting 9 Troubleshooting TYroubleshooting ou can rectify minor faults on your appliance yourself. Read the troubleshoot- ing information before contacting after-sales service. This will avoid unneces- sary costs. WARNING Risk of electric shock! Incorrect repairs are dangerous. ▶ Repairs to the appliance should only be carried out by trained specialist staff. ▶ Only use genuine spare parts when repairing the appliance. ▶ If the power cord of this appliance is damaged, it must be replaced by the manufacturer, the manufacturer's Customer Service or a similarly qualified person in order to prevent any risk. Fault Cause and troubleshooting The display goes out Energy-saving mode is active and Start/Reload ▶ Press any button. flashes. aThe symbol lights up again. \"E:30 / -80\" Drain pipe or water outlet hose is blocked. ▶ Clean the drain pipe and the water outlet hose. Drain pipe or water drain hose is caught or jammed. ▶ Ensure that the drain pipe and water drain hose are not kinked or trapped. Drain pump is blocked. ▶ → \"Cleaning the drain pump\", Page 50 The water outlet hose is connected too high. ▶ Install the water outlet hose at a maximum height of 1 metre. Pump cover is not correctly assembled. ▶ Correctly assemble the pump cover. Detergent dosage is too high. ▶ Immediate measure: Mix one tablespoon of fabric softener with 0.5 litres of water and pour the mix- ture into the compartment for manual dosing (not for outdoor clothing, sportswear or items stuffed with down). ▶ If intelligent dosing is activated, reduce the basic dosage → Page 42. ▶ If you dose manually, reduce the amount of deter- gent for the next washing cycle with the same load. 56 Troubleshooting en Fault Cause and troubleshooting \"E:30 / -80\" Unapproved extension installed on the water drain hose. ▶ Remove any unapproved extensions from the water hose. Connecting \n",
      "```json\n",
      "{\n",
      "    \"Error Codes\": [\n",
      "        {\n",
      "            \"Code\": \"E:30 / -80\",\n",
      "            \"Description\": \"Drain pipe or water outlet hose is blocked. Clean the drain pipe and the water outlet hose. Drain pipe or water drain hose is caught or jammed. Ensure that the drain pipe and water drain hose are not kinked or trapped. Drain pump is blocked. Cleaning the drain pump. The water outlet hose is connected too high. Install the water outlet hose at a maximum height of 1 metre. Pump cover is not correctly assembled. Correctly assemble the pump cover. Detergent dosage is too high. Immediate measure: Mix one tablespoon of fabric softener with 0.5 litres of water and pour the mixture into the compartment for manual dosing. If intelligent dosing is activated, reduce the basic dosage. If you dose manually, reduce the amount of detergent for the next washing cycle with the same load.\"\n",
      "        }\n",
      "    ]\n",
      "}\n",
      "```\n",
      "\n",
      "\n",
      "\n"
     ]
    },
    {
     "name": "stderr",
     "output_type": "stream",
     "text": [
      "Burning through the cash:  55%|█████▌    | 11/20 [00:33<00:34,  3.83s/it]"
     ]
    },
    {
     "name": "stdout",
     "output_type": "stream",
     "text": [
      "Chunk: \n",
      " he detergent drawer and 10.Clean the inside of the detergent the lid with a soft, damp cloth or drawer housing. hand shower. 11.Push in the detergent drawer. 9. Dry the detergent drawer, lid and pump unit and reinsert them. 18.4 Descaling ATTENTION! The use of unsuitable descaling agents, e.g. for coffee machines, may damage the appliance. ▶ For this appliance, only use de- scaling agents that are available from the manufacturer's website or our after-sales service. 18.5 Cleaning the drain pump Clean the drain pump in the event of faults, e.g. blockages or rattling noises. Emptying the drain pump Note: Please read the information in the Safety → Page 4 and Preventing material damage → Page 10 sections to ensure that you use the appliance safely. 1. Turn off the water tap. 2. Switch off the appliance. 3. Disconnect the appliance's mains plug from the power supply. 50 Cleaning and servicing en 4. Open the maintenance flap. 7. Take the drain hose out of the holder. 5. Remove the maintenance flap. 8. CAUTION - Risk of scalding! When you wash at high temperat- ures, the detergent solution gets hot. ▶ Do not touch the hot detergent solution. To allow the detergent solution to flow out into the container, remove the sealing cap. 6. Slide a sufficiently large receptacle under the opening. 9. Firmly press on the sealing cap. 51 en Cleaning and servicing 10.Insert the drain hose into the 2. Clean the interior, the thread on holder. the pump cap and the pump hous- ing. Cleaning the drain pump The pump cap is comprised of two Note: Please read the information in parts which can be taken apart for the Safety → Page 4 and Preventing cleaning. material damage → Page 10 sections 3. Ensure that both impellers can to ensure that you use the appliance turn. safely. Requirement: The drain pump is empty. → Page 50 1. Since water may remain in the drain pump, remove the pump cap carefully. 4. Insert the pump cap. ‒ Ensure that the parts of the pump cap are correctly as- sembled. 52 Cleaning and servicing en 5. Insert the pump cap and screw it 2. Check the intake opening for on as far as it will go. blockages and remove any block- ages. 90° The handle on the pump cap must be in a vertical position. Note: Do not use any sharp or poin- 6. Insert the maintenance flap and ted objects. lock it into place. 18.7 Cleaning the water outlet hose at the siphon 1. Switch off the appliance. 2. Disconnect the appliance's mains plug from the power supply. 3. Loosen the hose clamp and care- fully remove the water outlet hose. 1 2 7. Close the maintenance flap. 18.6 Cleaning the intake opening in the rubber gasket Regularly check the intake opening in the rubber gasket for any block- ages and clean the intake opening. Residual water may leak out. 1. Open the door. 53 en Cleaning and servicing 4. Clean the water outlet hose and si- Cleaning the filter on the tap phon connecting piece. Note: Please read the information in the Safety → Page 4 and Preventing material damage → Page 10 sections to ensure that you use the appliance safely. Requirement: The water inlet hose is empty. 1. Remove the water inlet hose from the tap. 5. Reattach the water outlet hose and secure the connection point using the hose clamp. 2. Clean the filter with a small brush. 18.8 Clean the water inlet fil- ters. Emptying the water inlet hose 1. Turn off the tap. 2. Set the Cottons programme. 3. Start the programme and leave it to run for approx. 70 seconds. 4. Switch off the appliance. 5. Disconnect the appliance's mains plug from the power supply. 54 Cleaning and servicing en 3. Connect the water inlet hose and 2. Use pliers to remove the filter. check for leaks. 3. Clean the filter with a small brush. Cleaning the filter on the appliance Note: Please read the information in the Safety → Page 4 and Preventing material damage → Page 10 sections to ensure that you use the appliance safely. Requirement: The water inlet hose is empty. → \"Emptying the water inlet hose\", Page 54 4. Reinsert the filter. 1. Disconnect the hose from the rear 5. Connect the hose and check for of the appliance. leaks. 1 2 1 2 55 en Troubleshooting T1roubleshooting 9 Troubleshooting TYroubleshooting ou can rectify minor faults on your appliance yourself. Read the troubleshoot- ing information before contacting after-sales service. This will avoid unneces- sary costs. WARNING Risk of electric shock! Incorrect repairs are dangerous. ▶ Repairs to the appliance should only be carried out by trained specialist staff. ▶ Only use genuine spare parts when repairing the appliance. ▶ If the power cord of this appliance is damaged, it must be replaced by the manufacturer, the manufacturer's Customer Service or a similarly qualified person in order to prevent any risk. Fault Cause and troubleshooting The display goes out Energy-saving mode is active and Start/Reload ▶ Press any button. flashes. aThe symbol lights up again. \"E:30 / -80\" Drain pipe or water outlet hose is blocked. ▶ Clean the drain pipe and the water outlet hose. Drain pipe or water drain hose is caught or jammed. ▶ Ensure that the drain pipe and water drain hose are not kinked or trapped. Drain pump is blocked. ▶ → \"Cleaning the drain pump\", Page 50 The water outlet hose is connected too high. ▶ Install the water outlet hose at a maximum height of 1 metre. Pump cover is not correctly assembled. ▶ Correctly assemble the pump cover. Detergent dosage is too high. ▶ Immediate measure: Mix one tablespoon of fabric softener with 0.5 litres of water and pour the mix- ture into the compartment for manual dosing (not for outdoor clothing, sportswear or items stuffed with down). ▶ If intelligent dosing is activated, reduce the basic dosage → Page 42. ▶ If you dose manually, reduce the amount of deter- gent for the next washing cycle with the same load. 56 Troubleshooting en Fault Cause and troubleshooting \"E:30 / -80\" Unapproved extension installed on the water drain hose. ▶ Remove any unapproved extensions from the water hose. Connecting \n",
      "```json\n",
      "{\n",
      "    \"Error Codes\": [\n",
      "        {\n",
      "            \"Code\": \"E:30 / -80\",\n",
      "            \"Description\": \"Drain pipe or water outlet hose is blocked.\"\n",
      "        },\n",
      "        {\n",
      "            \"Code\": \"E:30 / -80\",\n",
      "            \"Description\": \"Unapproved extension installed on the water drain hose.\"\n",
      "        }\n",
      "    ]\n",
      "}\n",
      "```\n",
      "\n",
      "\n",
      "\n"
     ]
    },
    {
     "name": "stderr",
     "output_type": "stream",
     "text": [
      "Burning through the cash:  60%|██████    | 12/20 [00:36<00:28,  3.58s/it]"
     ]
    },
    {
     "name": "stdout",
     "output_type": "stream",
     "text": [
      "Chunk: \n",
      " he detergent drawer and 10.Clean the inside of the detergent the lid with a soft, damp cloth or drawer housing. hand shower. 11.Push in the detergent drawer. 9. Dry the detergent drawer, lid and pump unit and reinsert them. 18.4 Descaling ATTENTION! The use of unsuitable descaling agents, e.g. for coffee machines, may damage the appliance. ▶ For this appliance, only use de- scaling agents that are available from the manufacturer's website or our after-sales service. 18.5 Cleaning the drain pump Clean the drain pump in the event of faults, e.g. blockages or rattling noises. Emptying the drain pump Note: Please read the information in the Safety → Page 4 and Preventing material damage → Page 10 sections to ensure that you use the appliance safely. 1. Turn off the water tap. 2. Switch off the appliance. 3. Disconnect the appliance's mains plug from the power supply. 50 Cleaning and servicing en 4. Open the maintenance flap. 7. Take the drain hose out of the holder. 5. Remove the maintenance flap. 8. CAUTION - Risk of scalding! When you wash at high temperat- ures, the detergent solution gets hot. ▶ Do not touch the hot detergent solution. To allow the detergent solution to flow out into the container, remove the sealing cap. 6. Slide a sufficiently large receptacle under the opening. 9. Firmly press on the sealing cap. 51 en Cleaning and servicing 10.Insert the drain hose into the 2. Clean the interior, the thread on holder. the pump cap and the pump hous- ing. Cleaning the drain pump The pump cap is comprised of two Note: Please read the information in parts which can be taken apart for the Safety → Page 4 and Preventing cleaning. material damage → Page 10 sections 3. Ensure that both impellers can to ensure that you use the appliance turn. safely. Requirement: The drain pump is empty. → Page 50 1. Since water may remain in the drain pump, remove the pump cap carefully. 4. Insert the pump cap. ‒ Ensure that the parts of the pump cap are correctly as- sembled. 52 Cleaning and servicing en 5. Insert the pump cap and screw it 2. Check the intake opening for on as far as it will go. blockages and remove any block- ages. 90° The handle on the pump cap must be in a vertical position. Note: Do not use any sharp or poin- 6. Insert the maintenance flap and ted objects. lock it into place. 18.7 Cleaning the water outlet hose at the siphon 1. Switch off the appliance. 2. Disconnect the appliance's mains plug from the power supply. 3. Loosen the hose clamp and care- fully remove the water outlet hose. 1 2 7. Close the maintenance flap. 18.6 Cleaning the intake opening in the rubber gasket Regularly check the intake opening in the rubber gasket for any block- ages and clean the intake opening. Residual water may leak out. 1. Open the door. 53 en Cleaning and servicing 4. Clean the water outlet hose and si- Cleaning the filter on the tap phon connecting piece. Note: Please read the information in the Safety → Page 4 and Preventing material damage → Page 10 sections to ensure that you use the appliance safely. Requirement: The water inlet hose is empty. 1. Remove the water inlet hose from the tap. 5. Reattach the water outlet hose and secure the connection point using the hose clamp. 2. Clean the filter with a small brush. 18.8 Clean the water inlet fil- ters. Emptying the water inlet hose 1. Turn off the tap. 2. Set the Cottons programme. 3. Start the programme and leave it to run for approx. 70 seconds. 4. Switch off the appliance. 5. Disconnect the appliance's mains plug from the power supply. 54 Cleaning and servicing en 3. Connect the water inlet hose and 2. Use pliers to remove the filter. check for leaks. 3. Clean the filter with a small brush. Cleaning the filter on the appliance Note: Please read the information in the Safety → Page 4 and Preventing material damage → Page 10 sections to ensure that you use the appliance safely. Requirement: The water inlet hose is empty. → \"Emptying the water inlet hose\", Page 54 4. Reinsert the filter. 1. Disconnect the hose from the rear 5. Connect the hose and check for of the appliance. leaks. 1 2 1 2 55 en Troubleshooting T1roubleshooting 9 Troubleshooting TYroubleshooting ou can rectify minor faults on your appliance yourself. Read the troubleshoot- ing information before contacting after-sales service. This will avoid unneces- sary costs. WARNING Risk of electric shock! Incorrect repairs are dangerous. ▶ Repairs to the appliance should only be carried out by trained specialist staff. ▶ Only use genuine spare parts when repairing the appliance. ▶ If the power cord of this appliance is damaged, it must be replaced by the manufacturer, the manufacturer's Customer Service or a similarly qualified person in order to prevent any risk. Fault Cause and troubleshooting The display goes out Energy-saving mode is active and Start/Reload ▶ Press any button. flashes. aThe symbol lights up again. \"E:30 / -80\" Drain pipe or water outlet hose is blocked. ▶ Clean the drain pipe and the water outlet hose. Drain pipe or water drain hose is caught or jammed. ▶ Ensure that the drain pipe and water drain hose are not kinked or trapped. Drain pump is blocked. ▶ → \"Cleaning the drain pump\", Page 50 The water outlet hose is connected too high. ▶ Install the water outlet hose at a maximum height of 1 metre. Pump cover is not correctly assembled. ▶ Correctly assemble the pump cover. Detergent dosage is too high. ▶ Immediate measure: Mix one tablespoon of fabric softener with 0.5 litres of water and pour the mix- ture into the compartment for manual dosing (not for outdoor clothing, sportswear or items stuffed with down). ▶ If intelligent dosing is activated, reduce the basic dosage → Page 42. ▶ If you dose manually, reduce the amount of deter- gent for the next washing cycle with the same load. 56 Troubleshooting en Fault Cause and troubleshooting \"E:30 / -80\" Unapproved extension installed on the water drain hose. ▶ Remove any unapproved extensions from the water hose. Connecting \n",
      "```json\n",
      "{\n",
      "    \"Error Codes\": [\n",
      "        {\n",
      "            \"Code\": \"E:30 / -80\",\n",
      "            \"Description\": \"Drain pipe or water outlet hose is blocked. Clean the drain pipe and the water outlet hose. Ensure that the drain pipe and water drain hose are not kinked or trapped. The drain pump is blocked. Install the water outlet hose at a maximum height of 1 metre. The pump cover is not correctly assembled. Detergent dosage is too high. Remove any unapproved extensions from the water hose.\"\n",
      "        }\n",
      "    ]\n",
      "}\n",
      "```\n",
      "\n",
      "\n",
      "\n"
     ]
    },
    {
     "name": "stderr",
     "output_type": "stream",
     "text": [
      "Burning through the cash:  65%|██████▌   | 13/20 [00:39<00:23,  3.30s/it]"
     ]
    },
    {
     "name": "stdout",
     "output_type": "stream",
     "text": [
      "Chunk: \n",
      " he detergent drawer and 10.Clean the inside of the detergent the lid with a soft, damp cloth or drawer housing. hand shower. 11.Push in the detergent drawer. 9. Dry the detergent drawer, lid and pump unit and reinsert them. 18.4 Descaling ATTENTION! The use of unsuitable descaling agents, e.g. for coffee machines, may damage the appliance. ▶ For this appliance, only use de- scaling agents that are available from the manufacturer's website or our after-sales service. 18.5 Cleaning the drain pump Clean the drain pump in the event of faults, e.g. blockages or rattling noises. Emptying the drain pump Note: Please read the information in the Safety → Page 4 and Preventing material damage → Page 10 sections to ensure that you use the appliance safely. 1. Turn off the water tap. 2. Switch off the appliance. 3. Disconnect the appliance's mains plug from the power supply. 50 Cleaning and servicing en 4. Open the maintenance flap. 7. Take the drain hose out of the holder. 5. Remove the maintenance flap. 8. CAUTION - Risk of scalding! When you wash at high temperat- ures, the detergent solution gets hot. ▶ Do not touch the hot detergent solution. To allow the detergent solution to flow out into the container, remove the sealing cap. 6. Slide a sufficiently large receptacle under the opening. 9. Firmly press on the sealing cap. 51 en Cleaning and servicing 10.Insert the drain hose into the 2. Clean the interior, the thread on holder. the pump cap and the pump hous- ing. Cleaning the drain pump The pump cap is comprised of two Note: Please read the information in parts which can be taken apart for the Safety → Page 4 and Preventing cleaning. material damage → Page 10 sections 3. Ensure that both impellers can to ensure that you use the appliance turn. safely. Requirement: The drain pump is empty. → Page 50 1. Since water may remain in the drain pump, remove the pump cap carefully. 4. Insert the pump cap. ‒ Ensure that the parts of the pump cap are correctly as- sembled. 52 Cleaning and servicing en 5. Insert the pump cap and screw it 2. Check the intake opening for on as far as it will go. blockages and remove any block- ages. 90° The handle on the pump cap must be in a vertical position. Note: Do not use any sharp or poin- 6. Insert the maintenance flap and ted objects. lock it into place. 18.7 Cleaning the water outlet hose at the siphon 1. Switch off the appliance. 2. Disconnect the appliance's mains plug from the power supply. 3. Loosen the hose clamp and care- fully remove the water outlet hose. 1 2 7. Close the maintenance flap. 18.6 Cleaning the intake opening in the rubber gasket Regularly check the intake opening in the rubber gasket for any block- ages and clean the intake opening. Residual water may leak out. 1. Open the door. 53 en Cleaning and servicing 4. Clean the water outlet hose and si- Cleaning the filter on the tap phon connecting piece. Note: Please read the information in the Safety → Page 4 and Preventing material damage → Page 10 sections to ensure that you use the appliance safely. Requirement: The water inlet hose is empty. 1. Remove the water inlet hose from the tap. 5. Reattach the water outlet hose and secure the connection point using the hose clamp. 2. Clean the filter with a small brush. 18.8 Clean the water inlet fil- ters. Emptying the water inlet hose 1. Turn off the tap. 2. Set the Cottons programme. 3. Start the programme and leave it to run for approx. 70 seconds. 4. Switch off the appliance. 5. Disconnect the appliance's mains plug from the power supply. 54 Cleaning and servicing en 3. Connect the water inlet hose and 2. Use pliers to remove the filter. check for leaks. 3. Clean the filter with a small brush. Cleaning the filter on the appliance Note: Please read the information in the Safety → Page 4 and Preventing material damage → Page 10 sections to ensure that you use the appliance safely. Requirement: The water inlet hose is empty. → \"Emptying the water inlet hose\", Page 54 4. Reinsert the filter. 1. Disconnect the hose from the rear 5. Connect the hose and check for of the appliance. leaks. 1 2 1 2 55 en Troubleshooting T1roubleshooting 9 Troubleshooting TYroubleshooting ou can rectify minor faults on your appliance yourself. Read the troubleshoot- ing information before contacting after-sales service. This will avoid unneces- sary costs. WARNING Risk of electric shock! Incorrect repairs are dangerous. ▶ Repairs to the appliance should only be carried out by trained specialist staff. ▶ Only use genuine spare parts when repairing the appliance. ▶ If the power cord of this appliance is damaged, it must be replaced by the manufacturer, the manufacturer's Customer Service or a similarly qualified person in order to prevent any risk. Fault Cause and troubleshooting The display goes out Energy-saving mode is active and Start/Reload ▶ Press any button. flashes. aThe symbol lights up again. \"E:30 / -80\" Drain pipe or water outlet hose is blocked. ▶ Clean the drain pipe and the water outlet hose. Drain pipe or water drain hose is caught or jammed. ▶ Ensure that the drain pipe and water drain hose are not kinked or trapped. Drain pump is blocked. ▶ → \"Cleaning the drain pump\", Page 50 The water outlet hose is connected too high. ▶ Install the water outlet hose at a maximum height of 1 metre. Pump cover is not correctly assembled. ▶ Correctly assemble the pump cover. Detergent dosage is too high. ▶ Immediate measure: Mix one tablespoon of fabric softener with 0.5 litres of water and pour the mix- ture into the compartment for manual dosing (not for outdoor clothing, sportswear or items stuffed with down). ▶ If intelligent dosing is activated, reduce the basic dosage → Page 42. ▶ If you dose manually, reduce the amount of deter- gent for the next washing cycle with the same load. 56 Troubleshooting en Fault Cause and troubleshooting \"E:30 / -80\" Unapproved extension installed on the water drain hose. ▶ Remove any unapproved extensions from the water hose. Connecting \n",
      "```json\n",
      "{\n",
      "    \"Error Codes\": [\n",
      "        {\n",
      "            \"Code\": \"E:30 / -80\",\n",
      "            \"Description\": \"Possible blockages or issues with the drain pipe or water outlet hose. Check for blockages, kinks, or installations too high. Also, check for blocked drain pump or incorrectly assembled pump cover.\"\n",
      "        }\n",
      "    ]\n",
      "}\n",
      "```\n",
      "\n",
      "\n",
      "\n"
     ]
    },
    {
     "name": "stderr",
     "output_type": "stream",
     "text": [
      "Burning through the cash:  70%|███████   | 14/20 [00:43<00:21,  3.52s/it]"
     ]
    },
    {
     "name": "stdout",
     "output_type": "stream",
     "text": [
      "Chunk: \n",
      " he detergent drawer and 10.Clean the inside of the detergent the lid with a soft, damp cloth or drawer housing. hand shower. 11.Push in the detergent drawer. 9. Dry the detergent drawer, lid and pump unit and reinsert them. 18.4 Descaling ATTENTION! The use of unsuitable descaling agents, e.g. for coffee machines, may damage the appliance. ▶ For this appliance, only use de- scaling agents that are available from the manufacturer's website or our after-sales service. 18.5 Cleaning the drain pump Clean the drain pump in the event of faults, e.g. blockages or rattling noises. Emptying the drain pump Note: Please read the information in the Safety → Page 4 and Preventing material damage → Page 10 sections to ensure that you use the appliance safely. 1. Turn off the water tap. 2. Switch off the appliance. 3. Disconnect the appliance's mains plug from the power supply. 50 Cleaning and servicing en 4. Open the maintenance flap. 7. Take the drain hose out of the holder. 5. Remove the maintenance flap. 8. CAUTION - Risk of scalding! When you wash at high temperat- ures, the detergent solution gets hot. ▶ Do not touch the hot detergent solution. To allow the detergent solution to flow out into the container, remove the sealing cap. 6. Slide a sufficiently large receptacle under the opening. 9. Firmly press on the sealing cap. 51 en Cleaning and servicing 10.Insert the drain hose into the 2. Clean the interior, the thread on holder. the pump cap and the pump hous- ing. Cleaning the drain pump The pump cap is comprised of two Note: Please read the information in parts which can be taken apart for the Safety → Page 4 and Preventing cleaning. material damage → Page 10 sections 3. Ensure that both impellers can to ensure that you use the appliance turn. safely. Requirement: The drain pump is empty. → Page 50 1. Since water may remain in the drain pump, remove the pump cap carefully. 4. Insert the pump cap. ‒ Ensure that the parts of the pump cap are correctly as- sembled. 52 Cleaning and servicing en 5. Insert the pump cap and screw it 2. Check the intake opening for on as far as it will go. blockages and remove any block- ages. 90° The handle on the pump cap must be in a vertical position. Note: Do not use any sharp or poin- 6. Insert the maintenance flap and ted objects. lock it into place. 18.7 Cleaning the water outlet hose at the siphon 1. Switch off the appliance. 2. Disconnect the appliance's mains plug from the power supply. 3. Loosen the hose clamp and care- fully remove the water outlet hose. 1 2 7. Close the maintenance flap. 18.6 Cleaning the intake opening in the rubber gasket Regularly check the intake opening in the rubber gasket for any block- ages and clean the intake opening. Residual water may leak out. 1. Open the door. 53 en Cleaning and servicing 4. Clean the water outlet hose and si- Cleaning the filter on the tap phon connecting piece. Note: Please read the information in the Safety → Page 4 and Preventing material damage → Page 10 sections to ensure that you use the appliance safely. Requirement: The water inlet hose is empty. 1. Remove the water inlet hose from the tap. 5. Reattach the water outlet hose and secure the connection point using the hose clamp. 2. Clean the filter with a small brush. 18.8 Clean the water inlet fil- ters. Emptying the water inlet hose 1. Turn off the tap. 2. Set the Cottons programme. 3. Start the programme and leave it to run for approx. 70 seconds. 4. Switch off the appliance. 5. Disconnect the appliance's mains plug from the power supply. 54 Cleaning and servicing en 3. Connect the water inlet hose and 2. Use pliers to remove the filter. check for leaks. 3. Clean the filter with a small brush. Cleaning the filter on the appliance Note: Please read the information in the Safety → Page 4 and Preventing material damage → Page 10 sections to ensure that you use the appliance safely. Requirement: The water inlet hose is empty. → \"Emptying the water inlet hose\", Page 54 4. Reinsert the filter. 1. Disconnect the hose from the rear 5. Connect the hose and check for of the appliance. leaks. 1 2 1 2 55 en Troubleshooting T1roubleshooting 9 Troubleshooting TYroubleshooting ou can rectify minor faults on your appliance yourself. Read the troubleshoot- ing information before contacting after-sales service. This will avoid unneces- sary costs. WARNING Risk of electric shock! Incorrect repairs are dangerous. ▶ Repairs to the appliance should only be carried out by trained specialist staff. ▶ Only use genuine spare parts when repairing the appliance. ▶ If the power cord of this appliance is damaged, it must be replaced by the manufacturer, the manufacturer's Customer Service or a similarly qualified person in order to prevent any risk. Fault Cause and troubleshooting The display goes out Energy-saving mode is active and Start/Reload ▶ Press any button. flashes. aThe symbol lights up again. \"E:30 / -80\" Drain pipe or water outlet hose is blocked. ▶ Clean the drain pipe and the water outlet hose. Drain pipe or water drain hose is caught or jammed. ▶ Ensure that the drain pipe and water drain hose are not kinked or trapped. Drain pump is blocked. ▶ → \"Cleaning the drain pump\", Page 50 The water outlet hose is connected too high. ▶ Install the water outlet hose at a maximum height of 1 metre. Pump cover is not correctly assembled. ▶ Correctly assemble the pump cover. Detergent dosage is too high. ▶ Immediate measure: Mix one tablespoon of fabric softener with 0.5 litres of water and pour the mix- ture into the compartment for manual dosing (not for outdoor clothing, sportswear or items stuffed with down). ▶ If intelligent dosing is activated, reduce the basic dosage → Page 42. ▶ If you dose manually, reduce the amount of deter- gent for the next washing cycle with the same load. 56 Troubleshooting en Fault Cause and troubleshooting \"E:30 / -80\" Unapproved extension installed on the water drain hose. ▶ Remove any unapproved extensions from the water hose. Connecting \n",
      "```json\n",
      "{\n",
      "    \"Error Codes\": [\n",
      "        {\n",
      "            \"Code\": \"E:30 / -80\",\n",
      "            \"Description\": \"Drain pipe or water outlet hose is blocked. Clean the drain pipe and the water outlet hose. Drain pipe or water drain hose is caught or jammed. Ensure that the drain pipe and water drain hose are not kinked or trapped. Drain pump is blocked. Install the water outlet hose at a maximum height of 1 metre. Pump cover is not correctly assembled. Correctly assemble the pump cover. Detergent dosage is too high. Remove any unapproved extensions from the water hose.\"\n",
      "        }\n",
      "    ]\n",
      "}\n",
      "```\n",
      "\n",
      "\n",
      "\n"
     ]
    },
    {
     "name": "stderr",
     "output_type": "stream",
     "text": [
      "Burning through the cash:  75%|███████▌  | 15/20 [00:45<00:16,  3.29s/it]"
     ]
    },
    {
     "name": "stdout",
     "output_type": "stream",
     "text": [
      "Chunk: \n",
      " he detergent drawer and 10.Clean the inside of the detergent the lid with a soft, damp cloth or drawer housing. hand shower. 11.Push in the detergent drawer. 9. Dry the detergent drawer, lid and pump unit and reinsert them. 18.4 Descaling ATTENTION! The use of unsuitable descaling agents, e.g. for coffee machines, may damage the appliance. ▶ For this appliance, only use de- scaling agents that are available from the manufacturer's website or our after-sales service. 18.5 Cleaning the drain pump Clean the drain pump in the event of faults, e.g. blockages or rattling noises. Emptying the drain pump Note: Please read the information in the Safety → Page 4 and Preventing material damage → Page 10 sections to ensure that you use the appliance safely. 1. Turn off the water tap. 2. Switch off the appliance. 3. Disconnect the appliance's mains plug from the power supply. 50 Cleaning and servicing en 4. Open the maintenance flap. 7. Take the drain hose out of the holder. 5. Remove the maintenance flap. 8. CAUTION - Risk of scalding! When you wash at high temperat- ures, the detergent solution gets hot. ▶ Do not touch the hot detergent solution. To allow the detergent solution to flow out into the container, remove the sealing cap. 6. Slide a sufficiently large receptacle under the opening. 9. Firmly press on the sealing cap. 51 en Cleaning and servicing 10.Insert the drain hose into the 2. Clean the interior, the thread on holder. the pump cap and the pump hous- ing. Cleaning the drain pump The pump cap is comprised of two Note: Please read the information in parts which can be taken apart for the Safety → Page 4 and Preventing cleaning. material damage → Page 10 sections 3. Ensure that both impellers can to ensure that you use the appliance turn. safely. Requirement: The drain pump is empty. → Page 50 1. Since water may remain in the drain pump, remove the pump cap carefully. 4. Insert the pump cap. ‒ Ensure that the parts of the pump cap are correctly as- sembled. 52 Cleaning and servicing en 5. Insert the pump cap and screw it 2. Check the intake opening for on as far as it will go. blockages and remove any block- ages. 90° The handle on the pump cap must be in a vertical position. Note: Do not use any sharp or poin- 6. Insert the maintenance flap and ted objects. lock it into place. 18.7 Cleaning the water outlet hose at the siphon 1. Switch off the appliance. 2. Disconnect the appliance's mains plug from the power supply. 3. Loosen the hose clamp and care- fully remove the water outlet hose. 1 2 7. Close the maintenance flap. 18.6 Cleaning the intake opening in the rubber gasket Regularly check the intake opening in the rubber gasket for any block- ages and clean the intake opening. Residual water may leak out. 1. Open the door. 53 en Cleaning and servicing 4. Clean the water outlet hose and si- Cleaning the filter on the tap phon connecting piece. Note: Please read the information in the Safety → Page 4 and Preventing material damage → Page 10 sections to ensure that you use the appliance safely. Requirement: The water inlet hose is empty. 1. Remove the water inlet hose from the tap. 5. Reattach the water outlet hose and secure the connection point using the hose clamp. 2. Clean the filter with a small brush. 18.8 Clean the water inlet fil- ters. Emptying the water inlet hose 1. Turn off the tap. 2. Set the Cottons programme. 3. Start the programme and leave it to run for approx. 70 seconds. 4. Switch off the appliance. 5. Disconnect the appliance's mains plug from the power supply. 54 Cleaning and servicing en 3. Connect the water inlet hose and 2. Use pliers to remove the filter. check for leaks. 3. Clean the filter with a small brush. Cleaning the filter on the appliance Note: Please read the information in the Safety → Page 4 and Preventing material damage → Page 10 sections to ensure that you use the appliance safely. Requirement: The water inlet hose is empty. → \"Emptying the water inlet hose\", Page 54 4. Reinsert the filter. 1. Disconnect the hose from the rear 5. Connect the hose and check for of the appliance. leaks. 1 2 1 2 55 en Troubleshooting T1roubleshooting 9 Troubleshooting TYroubleshooting ou can rectify minor faults on your appliance yourself. Read the troubleshoot- ing information before contacting after-sales service. This will avoid unneces- sary costs. WARNING Risk of electric shock! Incorrect repairs are dangerous. ▶ Repairs to the appliance should only be carried out by trained specialist staff. ▶ Only use genuine spare parts when repairing the appliance. ▶ If the power cord of this appliance is damaged, it must be replaced by the manufacturer, the manufacturer's Customer Service or a similarly qualified person in order to prevent any risk. Fault Cause and troubleshooting The display goes out Energy-saving mode is active and Start/Reload ▶ Press any button. flashes. aThe symbol lights up again. \"E:30 / -80\" Drain pipe or water outlet hose is blocked. ▶ Clean the drain pipe and the water outlet hose. Drain pipe or water drain hose is caught or jammed. ▶ Ensure that the drain pipe and water drain hose are not kinked or trapped. Drain pump is blocked. ▶ → \"Cleaning the drain pump\", Page 50 The water outlet hose is connected too high. ▶ Install the water outlet hose at a maximum height of 1 metre. Pump cover is not correctly assembled. ▶ Correctly assemble the pump cover. Detergent dosage is too high. ▶ Immediate measure: Mix one tablespoon of fabric softener with 0.5 litres of water and pour the mix- ture into the compartment for manual dosing (not for outdoor clothing, sportswear or items stuffed with down). ▶ If intelligent dosing is activated, reduce the basic dosage → Page 42. ▶ If you dose manually, reduce the amount of deter- gent for the next washing cycle with the same load. 56 Troubleshooting en Fault Cause and troubleshooting \"E:30 / -80\" Unapproved extension installed on the water drain hose. ▶ Remove any unapproved extensions from the water hose. Connecting \n",
      "```json\n",
      "{\n",
      "    \"Error Codes\": [\n",
      "        {\n",
      "            \"Code\": \"E:30 / -80\",\n",
      "            \"Description\": \"Drain pipe or water outlet hose is blocked. Clean the drain pipe and the water outlet hose. Ensure that the drain pipe and water drain hose are not kinked or trapped. Drain pump is blocked. The water outlet hose is connected too high. Install the water outlet hose at a maximum height of 1 metre. Pump cover is not correctly assembled. Correctly assemble the pump cover. Detergent dosage is too high. Unapproved extension installed on the water drain hose. Remove any unapproved extensions from the water hose.\"\n",
      "        }\n",
      "    ]\n",
      "}\n",
      "```\n",
      "\n",
      "\n",
      "\n"
     ]
    },
    {
     "name": "stderr",
     "output_type": "stream",
     "text": [
      "Burning through the cash:  80%|████████  | 16/20 [00:48<00:12,  3.21s/it]"
     ]
    },
    {
     "name": "stdout",
     "output_type": "stream",
     "text": [
      "Chunk: \n",
      " he detergent drawer and 10.Clean the inside of the detergent the lid with a soft, damp cloth or drawer housing. hand shower. 11.Push in the detergent drawer. 9. Dry the detergent drawer, lid and pump unit and reinsert them. 18.4 Descaling ATTENTION! The use of unsuitable descaling agents, e.g. for coffee machines, may damage the appliance. ▶ For this appliance, only use de- scaling agents that are available from the manufacturer's website or our after-sales service. 18.5 Cleaning the drain pump Clean the drain pump in the event of faults, e.g. blockages or rattling noises. Emptying the drain pump Note: Please read the information in the Safety → Page 4 and Preventing material damage → Page 10 sections to ensure that you use the appliance safely. 1. Turn off the water tap. 2. Switch off the appliance. 3. Disconnect the appliance's mains plug from the power supply. 50 Cleaning and servicing en 4. Open the maintenance flap. 7. Take the drain hose out of the holder. 5. Remove the maintenance flap. 8. CAUTION - Risk of scalding! When you wash at high temperat- ures, the detergent solution gets hot. ▶ Do not touch the hot detergent solution. To allow the detergent solution to flow out into the container, remove the sealing cap. 6. Slide a sufficiently large receptacle under the opening. 9. Firmly press on the sealing cap. 51 en Cleaning and servicing 10.Insert the drain hose into the 2. Clean the interior, the thread on holder. the pump cap and the pump hous- ing. Cleaning the drain pump The pump cap is comprised of two Note: Please read the information in parts which can be taken apart for the Safety → Page 4 and Preventing cleaning. material damage → Page 10 sections 3. Ensure that both impellers can to ensure that you use the appliance turn. safely. Requirement: The drain pump is empty. → Page 50 1. Since water may remain in the drain pump, remove the pump cap carefully. 4. Insert the pump cap. ‒ Ensure that the parts of the pump cap are correctly as- sembled. 52 Cleaning and servicing en 5. Insert the pump cap and screw it 2. Check the intake opening for on as far as it will go. blockages and remove any block- ages. 90° The handle on the pump cap must be in a vertical position. Note: Do not use any sharp or poin- 6. Insert the maintenance flap and ted objects. lock it into place. 18.7 Cleaning the water outlet hose at the siphon 1. Switch off the appliance. 2. Disconnect the appliance's mains plug from the power supply. 3. Loosen the hose clamp and care- fully remove the water outlet hose. 1 2 7. Close the maintenance flap. 18.6 Cleaning the intake opening in the rubber gasket Regularly check the intake opening in the rubber gasket for any block- ages and clean the intake opening. Residual water may leak out. 1. Open the door. 53 en Cleaning and servicing 4. Clean the water outlet hose and si- Cleaning the filter on the tap phon connecting piece. Note: Please read the information in the Safety → Page 4 and Preventing material damage → Page 10 sections to ensure that you use the appliance safely. Requirement: The water inlet hose is empty. 1. Remove the water inlet hose from the tap. 5. Reattach the water outlet hose and secure the connection point using the hose clamp. 2. Clean the filter with a small brush. 18.8 Clean the water inlet fil- ters. Emptying the water inlet hose 1. Turn off the tap. 2. Set the Cottons programme. 3. Start the programme and leave it to run for approx. 70 seconds. 4. Switch off the appliance. 5. Disconnect the appliance's mains plug from the power supply. 54 Cleaning and servicing en 3. Connect the water inlet hose and 2. Use pliers to remove the filter. check for leaks. 3. Clean the filter with a small brush. Cleaning the filter on the appliance Note: Please read the information in the Safety → Page 4 and Preventing material damage → Page 10 sections to ensure that you use the appliance safely. Requirement: The water inlet hose is empty. → \"Emptying the water inlet hose\", Page 54 4. Reinsert the filter. 1. Disconnect the hose from the rear 5. Connect the hose and check for of the appliance. leaks. 1 2 1 2 55 en Troubleshooting T1roubleshooting 9 Troubleshooting TYroubleshooting ou can rectify minor faults on your appliance yourself. Read the troubleshoot- ing information before contacting after-sales service. This will avoid unneces- sary costs. WARNING Risk of electric shock! Incorrect repairs are dangerous. ▶ Repairs to the appliance should only be carried out by trained specialist staff. ▶ Only use genuine spare parts when repairing the appliance. ▶ If the power cord of this appliance is damaged, it must be replaced by the manufacturer, the manufacturer's Customer Service or a similarly qualified person in order to prevent any risk. Fault Cause and troubleshooting The display goes out Energy-saving mode is active and Start/Reload ▶ Press any button. flashes. aThe symbol lights up again. \"E:30 / -80\" Drain pipe or water outlet hose is blocked. ▶ Clean the drain pipe and the water outlet hose. Drain pipe or water drain hose is caught or jammed. ▶ Ensure that the drain pipe and water drain hose are not kinked or trapped. Drain pump is blocked. ▶ → \"Cleaning the drain pump\", Page 50 The water outlet hose is connected too high. ▶ Install the water outlet hose at a maximum height of 1 metre. Pump cover is not correctly assembled. ▶ Correctly assemble the pump cover. Detergent dosage is too high. ▶ Immediate measure: Mix one tablespoon of fabric softener with 0.5 litres of water and pour the mix- ture into the compartment for manual dosing (not for outdoor clothing, sportswear or items stuffed with down). ▶ If intelligent dosing is activated, reduce the basic dosage → Page 42. ▶ If you dose manually, reduce the amount of deter- gent for the next washing cycle with the same load. 56 Troubleshooting en Fault Cause and troubleshooting \"E:30 / -80\" Unapproved extension installed on the water drain hose. ▶ Remove any unapproved extensions from the water hose. Connecting \n",
      "```json\n",
      "{\n",
      "    \"Error Codes\": [\n",
      "        {\n",
      "            \"Code\": \"E:30 / -80\",\n",
      "            \"Description\": \"Drain pipe or water outlet hose is blocked. Clean the drain pipe and the water outlet hose. Ensure that the drain pipe and water drain hose are not kinked or trapped. Drain pump is blocked. Install the water outlet hose at a maximum height of 1 metre. Pump cover is not correctly assembled. Detergent dosage is too high. Unapproved extension installed on the water drain hose.\"\n",
      "        }\n",
      "    ]\n",
      "}\n",
      "```\n",
      "\n",
      "\n",
      "\n"
     ]
    },
    {
     "name": "stderr",
     "output_type": "stream",
     "text": [
      "Burning through the cash:  85%|████████▌ | 17/20 [00:51<00:09,  3.15s/it]"
     ]
    },
    {
     "name": "stdout",
     "output_type": "stream",
     "text": [
      "Chunk: \n",
      " he detergent drawer and 10.Clean the inside of the detergent the lid with a soft, damp cloth or drawer housing. hand shower. 11.Push in the detergent drawer. 9. Dry the detergent drawer, lid and pump unit and reinsert them. 18.4 Descaling ATTENTION! The use of unsuitable descaling agents, e.g. for coffee machines, may damage the appliance. ▶ For this appliance, only use de- scaling agents that are available from the manufacturer's website or our after-sales service. 18.5 Cleaning the drain pump Clean the drain pump in the event of faults, e.g. blockages or rattling noises. Emptying the drain pump Note: Please read the information in the Safety → Page 4 and Preventing material damage → Page 10 sections to ensure that you use the appliance safely. 1. Turn off the water tap. 2. Switch off the appliance. 3. Disconnect the appliance's mains plug from the power supply. 50 Cleaning and servicing en 4. Open the maintenance flap. 7. Take the drain hose out of the holder. 5. Remove the maintenance flap. 8. CAUTION - Risk of scalding! When you wash at high temperat- ures, the detergent solution gets hot. ▶ Do not touch the hot detergent solution. To allow the detergent solution to flow out into the container, remove the sealing cap. 6. Slide a sufficiently large receptacle under the opening. 9. Firmly press on the sealing cap. 51 en Cleaning and servicing 10.Insert the drain hose into the 2. Clean the interior, the thread on holder. the pump cap and the pump hous- ing. Cleaning the drain pump The pump cap is comprised of two Note: Please read the information in parts which can be taken apart for the Safety → Page 4 and Preventing cleaning. material damage → Page 10 sections 3. Ensure that both impellers can to ensure that you use the appliance turn. safely. Requirement: The drain pump is empty. → Page 50 1. Since water may remain in the drain pump, remove the pump cap carefully. 4. Insert the pump cap. ‒ Ensure that the parts of the pump cap are correctly as- sembled. 52 Cleaning and servicing en 5. Insert the pump cap and screw it 2. Check the intake opening for on as far as it will go. blockages and remove any block- ages. 90° The handle on the pump cap must be in a vertical position. Note: Do not use any sharp or poin- 6. Insert the maintenance flap and ted objects. lock it into place. 18.7 Cleaning the water outlet hose at the siphon 1. Switch off the appliance. 2. Disconnect the appliance's mains plug from the power supply. 3. Loosen the hose clamp and care- fully remove the water outlet hose. 1 2 7. Close the maintenance flap. 18.6 Cleaning the intake opening in the rubber gasket Regularly check the intake opening in the rubber gasket for any block- ages and clean the intake opening. Residual water may leak out. 1. Open the door. 53 en Cleaning and servicing 4. Clean the water outlet hose and si- Cleaning the filter on the tap phon connecting piece. Note: Please read the information in the Safety → Page 4 and Preventing material damage → Page 10 sections to ensure that you use the appliance safely. Requirement: The water inlet hose is empty. 1. Remove the water inlet hose from the tap. 5. Reattach the water outlet hose and secure the connection point using the hose clamp. 2. Clean the filter with a small brush. 18.8 Clean the water inlet fil- ters. Emptying the water inlet hose 1. Turn off the tap. 2. Set the Cottons programme. 3. Start the programme and leave it to run for approx. 70 seconds. 4. Switch off the appliance. 5. Disconnect the appliance's mains plug from the power supply. 54 Cleaning and servicing en 3. Connect the water inlet hose and 2. Use pliers to remove the filter. check for leaks. 3. Clean the filter with a small brush. Cleaning the filter on the appliance Note: Please read the information in the Safety → Page 4 and Preventing material damage → Page 10 sections to ensure that you use the appliance safely. Requirement: The water inlet hose is empty. → \"Emptying the water inlet hose\", Page 54 4. Reinsert the filter. 1. Disconnect the hose from the rear 5. Connect the hose and check for of the appliance. leaks. 1 2 1 2 55 en Troubleshooting T1roubleshooting 9 Troubleshooting TYroubleshooting ou can rectify minor faults on your appliance yourself. Read the troubleshoot- ing information before contacting after-sales service. This will avoid unneces- sary costs. WARNING Risk of electric shock! Incorrect repairs are dangerous. ▶ Repairs to the appliance should only be carried out by trained specialist staff. ▶ Only use genuine spare parts when repairing the appliance. ▶ If the power cord of this appliance is damaged, it must be replaced by the manufacturer, the manufacturer's Customer Service or a similarly qualified person in order to prevent any risk. Fault Cause and troubleshooting The display goes out Energy-saving mode is active and Start/Reload ▶ Press any button. flashes. aThe symbol lights up again. \"E:30 / -80\" Drain pipe or water outlet hose is blocked. ▶ Clean the drain pipe and the water outlet hose. Drain pipe or water drain hose is caught or jammed. ▶ Ensure that the drain pipe and water drain hose are not kinked or trapped. Drain pump is blocked. ▶ → \"Cleaning the drain pump\", Page 50 The water outlet hose is connected too high. ▶ Install the water outlet hose at a maximum height of 1 metre. Pump cover is not correctly assembled. ▶ Correctly assemble the pump cover. Detergent dosage is too high. ▶ Immediate measure: Mix one tablespoon of fabric softener with 0.5 litres of water and pour the mix- ture into the compartment for manual dosing (not for outdoor clothing, sportswear or items stuffed with down). ▶ If intelligent dosing is activated, reduce the basic dosage → Page 42. ▶ If you dose manually, reduce the amount of deter- gent for the next washing cycle with the same load. 56 Troubleshooting en Fault Cause and troubleshooting \"E:30 / -80\" Unapproved extension installed on the water drain hose. ▶ Remove any unapproved extensions from the water hose. Connecting \n",
      "```json\n",
      "{\n",
      "    \"Error Codes\": [\n",
      "        {\n",
      "            \"Code\": \"E:30 / -80\",\n",
      "            \"Description\": \"Drain pipe or water outlet hose is blocked.\"\n",
      "        },\n",
      "        {\n",
      "            \"Code\": \"E:30 / -80\",\n",
      "            \"Description\": \"Drain pipe or water drain hose is caught or jammed.\"\n",
      "        },\n",
      "        {\n",
      "            \"Code\": \"E:30 / -80\",\n",
      "            \"Description\": \"Drain pump is blocked.\"\n",
      "        },\n",
      "        {\n",
      "            \"Code\": \"E:30 / -80\",\n",
      "            \"Description\": \"The water outlet hose is connected too high.\"\n",
      "        },\n",
      "        {\n",
      "            \"Code\": \"E:30 / -80\",\n",
      "            \"Description\": \"Pump cover is not correctly assembled.\"\n",
      "        },\n",
      "        {\n",
      "            \"Code\": \"E:30 / -80\",\n",
      "            \"Description\": \"Detergent dosage is too high.\"\n",
      "        },\n",
      "        {\n",
      "            \"Code\": \"E:30 / -80\",\n",
      "            \"Description\": \"Unapproved extension installed on the water drain hose.\"\n",
      "        }\n",
      "    ]\n",
      "}\n",
      "```\n",
      "\n",
      "\n",
      "\n"
     ]
    },
    {
     "name": "stderr",
     "output_type": "stream",
     "text": [
      "Burning through the cash:  90%|█████████ | 18/20 [00:54<00:06,  3.14s/it]"
     ]
    },
    {
     "name": "stdout",
     "output_type": "stream",
     "text": [
      "Chunk: \n",
      " he detergent drawer and 10.Clean the inside of the detergent the lid with a soft, damp cloth or drawer housing. hand shower. 11.Push in the detergent drawer. 9. Dry the detergent drawer, lid and pump unit and reinsert them. 18.4 Descaling ATTENTION! The use of unsuitable descaling agents, e.g. for coffee machines, may damage the appliance. ▶ For this appliance, only use de- scaling agents that are available from the manufacturer's website or our after-sales service. 18.5 Cleaning the drain pump Clean the drain pump in the event of faults, e.g. blockages or rattling noises. Emptying the drain pump Note: Please read the information in the Safety → Page 4 and Preventing material damage → Page 10 sections to ensure that you use the appliance safely. 1. Turn off the water tap. 2. Switch off the appliance. 3. Disconnect the appliance's mains plug from the power supply. 50 Cleaning and servicing en 4. Open the maintenance flap. 7. Take the drain hose out of the holder. 5. Remove the maintenance flap. 8. CAUTION - Risk of scalding! When you wash at high temperat- ures, the detergent solution gets hot. ▶ Do not touch the hot detergent solution. To allow the detergent solution to flow out into the container, remove the sealing cap. 6. Slide a sufficiently large receptacle under the opening. 9. Firmly press on the sealing cap. 51 en Cleaning and servicing 10.Insert the drain hose into the 2. Clean the interior, the thread on holder. the pump cap and the pump hous- ing. Cleaning the drain pump The pump cap is comprised of two Note: Please read the information in parts which can be taken apart for the Safety → Page 4 and Preventing cleaning. material damage → Page 10 sections 3. Ensure that both impellers can to ensure that you use the appliance turn. safely. Requirement: The drain pump is empty. → Page 50 1. Since water may remain in the drain pump, remove the pump cap carefully. 4. Insert the pump cap. ‒ Ensure that the parts of the pump cap are correctly as- sembled. 52 Cleaning and servicing en 5. Insert the pump cap and screw it 2. Check the intake opening for on as far as it will go. blockages and remove any block- ages. 90° The handle on the pump cap must be in a vertical position. Note: Do not use any sharp or poin- 6. Insert the maintenance flap and ted objects. lock it into place. 18.7 Cleaning the water outlet hose at the siphon 1. Switch off the appliance. 2. Disconnect the appliance's mains plug from the power supply. 3. Loosen the hose clamp and care- fully remove the water outlet hose. 1 2 7. Close the maintenance flap. 18.6 Cleaning the intake opening in the rubber gasket Regularly check the intake opening in the rubber gasket for any block- ages and clean the intake opening. Residual water may leak out. 1. Open the door. 53 en Cleaning and servicing 4. Clean the water outlet hose and si- Cleaning the filter on the tap phon connecting piece. Note: Please read the information in the Safety → Page 4 and Preventing material damage → Page 10 sections to ensure that you use the appliance safely. Requirement: The water inlet hose is empty. 1. Remove the water inlet hose from the tap. 5. Reattach the water outlet hose and secure the connection point using the hose clamp. 2. Clean the filter with a small brush. 18.8 Clean the water inlet fil- ters. Emptying the water inlet hose 1. Turn off the tap. 2. Set the Cottons programme. 3. Start the programme and leave it to run for approx. 70 seconds. 4. Switch off the appliance. 5. Disconnect the appliance's mains plug from the power supply. 54 Cleaning and servicing en 3. Connect the water inlet hose and 2. Use pliers to remove the filter. check for leaks. 3. Clean the filter with a small brush. Cleaning the filter on the appliance Note: Please read the information in the Safety → Page 4 and Preventing material damage → Page 10 sections to ensure that you use the appliance safely. Requirement: The water inlet hose is empty. → \"Emptying the water inlet hose\", Page 54 4. Reinsert the filter. 1. Disconnect the hose from the rear 5. Connect the hose and check for of the appliance. leaks. 1 2 1 2 55 en Troubleshooting T1roubleshooting 9 Troubleshooting TYroubleshooting ou can rectify minor faults on your appliance yourself. Read the troubleshoot- ing information before contacting after-sales service. This will avoid unneces- sary costs. WARNING Risk of electric shock! Incorrect repairs are dangerous. ▶ Repairs to the appliance should only be carried out by trained specialist staff. ▶ Only use genuine spare parts when repairing the appliance. ▶ If the power cord of this appliance is damaged, it must be replaced by the manufacturer, the manufacturer's Customer Service or a similarly qualified person in order to prevent any risk. Fault Cause and troubleshooting The display goes out Energy-saving mode is active and Start/Reload ▶ Press any button. flashes. aThe symbol lights up again. \"E:30 / -80\" Drain pipe or water outlet hose is blocked. ▶ Clean the drain pipe and the water outlet hose. Drain pipe or water drain hose is caught or jammed. ▶ Ensure that the drain pipe and water drain hose are not kinked or trapped. Drain pump is blocked. ▶ → \"Cleaning the drain pump\", Page 50 The water outlet hose is connected too high. ▶ Install the water outlet hose at a maximum height of 1 metre. Pump cover is not correctly assembled. ▶ Correctly assemble the pump cover. Detergent dosage is too high. ▶ Immediate measure: Mix one tablespoon of fabric softener with 0.5 litres of water and pour the mix- ture into the compartment for manual dosing (not for outdoor clothing, sportswear or items stuffed with down). ▶ If intelligent dosing is activated, reduce the basic dosage → Page 42. ▶ If you dose manually, reduce the amount of deter- gent for the next washing cycle with the same load. 56 Troubleshooting en Fault Cause and troubleshooting \"E:30 / -80\" Unapproved extension installed on the water drain hose. ▶ Remove any unapproved extensions from the water hose. Connecting \n",
      "```json\n",
      "{\n",
      "    \"Error Codes\": [\n",
      "        {\n",
      "            \"Code\": \"E:30 / -80\",\n",
      "            \"Description\": \"Drain pipe or water outlet hose is blocked. Clean the drain pipe and the water outlet hose. Drain pipe or water drain hose is caught or jammed. Ensure that the drain pipe and water drain hose are not kinked or trapped. Drain pump is blocked. Install the water outlet hose at a maximum height of 1 metre. Pump cover is not correctly assembled. Detergent dosage is too high. Unapproved extension installed on the water drain hose.\"\n",
      "        }\n",
      "    ]\n",
      "}\n",
      "```\n",
      "\n",
      "\n",
      "\n"
     ]
    },
    {
     "name": "stderr",
     "output_type": "stream",
     "text": [
      "Burning through the cash:  95%|█████████▌| 19/20 [00:57<00:02,  2.84s/it]"
     ]
    },
    {
     "name": "stdout",
     "output_type": "stream",
     "text": [
      "Chunk: \n",
      " he detergent drawer and 10.Clean the inside of the detergent the lid with a soft, damp cloth or drawer housing. hand shower. 11.Push in the detergent drawer. 9. Dry the detergent drawer, lid and pump unit and reinsert them. 18.4 Descaling ATTENTION! The use of unsuitable descaling agents, e.g. for coffee machines, may damage the appliance. ▶ For this appliance, only use de- scaling agents that are available from the manufacturer's website or our after-sales service. 18.5 Cleaning the drain pump Clean the drain pump in the event of faults, e.g. blockages or rattling noises. Emptying the drain pump Note: Please read the information in the Safety → Page 4 and Preventing material damage → Page 10 sections to ensure that you use the appliance safely. 1. Turn off the water tap. 2. Switch off the appliance. 3. Disconnect the appliance's mains plug from the power supply. 50 Cleaning and servicing en 4. Open the maintenance flap. 7. Take the drain hose out of the holder. 5. Remove the maintenance flap. 8. CAUTION - Risk of scalding! When you wash at high temperat- ures, the detergent solution gets hot. ▶ Do not touch the hot detergent solution. To allow the detergent solution to flow out into the container, remove the sealing cap. 6. Slide a sufficiently large receptacle under the opening. 9. Firmly press on the sealing cap. 51 en Cleaning and servicing 10.Insert the drain hose into the 2. Clean the interior, the thread on holder. the pump cap and the pump hous- ing. Cleaning the drain pump The pump cap is comprised of two Note: Please read the information in parts which can be taken apart for the Safety → Page 4 and Preventing cleaning. material damage → Page 10 sections 3. Ensure that both impellers can to ensure that you use the appliance turn. safely. Requirement: The drain pump is empty. → Page 50 1. Since water may remain in the drain pump, remove the pump cap carefully. 4. Insert the pump cap. ‒ Ensure that the parts of the pump cap are correctly as- sembled. 52 Cleaning and servicing en 5. Insert the pump cap and screw it 2. Check the intake opening for on as far as it will go. blockages and remove any block- ages. 90° The handle on the pump cap must be in a vertical position. Note: Do not use any sharp or poin- 6. Insert the maintenance flap and ted objects. lock it into place. 18.7 Cleaning the water outlet hose at the siphon 1. Switch off the appliance. 2. Disconnect the appliance's mains plug from the power supply. 3. Loosen the hose clamp and care- fully remove the water outlet hose. 1 2 7. Close the maintenance flap. 18.6 Cleaning the intake opening in the rubber gasket Regularly check the intake opening in the rubber gasket for any block- ages and clean the intake opening. Residual water may leak out. 1. Open the door. 53 en Cleaning and servicing 4. Clean the water outlet hose and si- Cleaning the filter on the tap phon connecting piece. Note: Please read the information in the Safety → Page 4 and Preventing material damage → Page 10 sections to ensure that you use the appliance safely. Requirement: The water inlet hose is empty. 1. Remove the water inlet hose from the tap. 5. Reattach the water outlet hose and secure the connection point using the hose clamp. 2. Clean the filter with a small brush. 18.8 Clean the water inlet fil- ters. Emptying the water inlet hose 1. Turn off the tap. 2. Set the Cottons programme. 3. Start the programme and leave it to run for approx. 70 seconds. 4. Switch off the appliance. 5. Disconnect the appliance's mains plug from the power supply. 54 Cleaning and servicing en 3. Connect the water inlet hose and 2. Use pliers to remove the filter. check for leaks. 3. Clean the filter with a small brush. Cleaning the filter on the appliance Note: Please read the information in the Safety → Page 4 and Preventing material damage → Page 10 sections to ensure that you use the appliance safely. Requirement: The water inlet hose is empty. → \"Emptying the water inlet hose\", Page 54 4. Reinsert the filter. 1. Disconnect the hose from the rear 5. Connect the hose and check for of the appliance. leaks. 1 2 1 2 55 en Troubleshooting T1roubleshooting 9 Troubleshooting TYroubleshooting ou can rectify minor faults on your appliance yourself. Read the troubleshoot- ing information before contacting after-sales service. This will avoid unneces- sary costs. WARNING Risk of electric shock! Incorrect repairs are dangerous. ▶ Repairs to the appliance should only be carried out by trained specialist staff. ▶ Only use genuine spare parts when repairing the appliance. ▶ If the power cord of this appliance is damaged, it must be replaced by the manufacturer, the manufacturer's Customer Service or a similarly qualified person in order to prevent any risk. Fault Cause and troubleshooting The display goes out Energy-saving mode is active and Start/Reload ▶ Press any button. flashes. aThe symbol lights up again. \"E:30 / -80\" Drain pipe or water outlet hose is blocked. ▶ Clean the drain pipe and the water outlet hose. Drain pipe or water drain hose is caught or jammed. ▶ Ensure that the drain pipe and water drain hose are not kinked or trapped. Drain pump is blocked. ▶ → \"Cleaning the drain pump\", Page 50 The water outlet hose is connected too high. ▶ Install the water outlet hose at a maximum height of 1 metre. Pump cover is not correctly assembled. ▶ Correctly assemble the pump cover. Detergent dosage is too high. ▶ Immediate measure: Mix one tablespoon of fabric softener with 0.5 litres of water and pour the mix- ture into the compartment for manual dosing (not for outdoor clothing, sportswear or items stuffed with down). ▶ If intelligent dosing is activated, reduce the basic dosage → Page 42. ▶ If you dose manually, reduce the amount of deter- gent for the next washing cycle with the same load. 56 Troubleshooting en Fault Cause and troubleshooting \"E:30 / -80\" Unapproved extension installed on the water drain hose. ▶ Remove any unapproved extensions from the water hose. Connecting \n",
      "```json\n",
      "{\n",
      "    \"Error Codes\": [\n",
      "        {\n",
      "            \"Code\": \"E:30 / -80\",\n",
      "            \"Description\": \"Drain pipe or water outlet hose is blocked. Ensure that the drain pipe and water drain hose are not kinked or trapped. The drain pump is blocked, or the water outlet hose is connected too high.\"\n",
      "        }\n",
      "    ]\n",
      "}\n",
      "```\n",
      "\n",
      "\n",
      "\n"
     ]
    },
    {
     "name": "stderr",
     "output_type": "stream",
     "text": [
      "Burning through the cash: 100%|██████████| 20/20 [01:02<00:00,  3.12s/it]"
     ]
    },
    {
     "name": "stdout",
     "output_type": "stream",
     "text": [
      "Chunk: \n",
      " he detergent drawer and 10.Clean the inside of the detergent the lid with a soft, damp cloth or drawer housing. hand shower. 11.Push in the detergent drawer. 9. Dry the detergent drawer, lid and pump unit and reinsert them. 18.4 Descaling ATTENTION! The use of unsuitable descaling agents, e.g. for coffee machines, may damage the appliance. ▶ For this appliance, only use de- scaling agents that are available from the manufacturer's website or our after-sales service. 18.5 Cleaning the drain pump Clean the drain pump in the event of faults, e.g. blockages or rattling noises. Emptying the drain pump Note: Please read the information in the Safety → Page 4 and Preventing material damage → Page 10 sections to ensure that you use the appliance safely. 1. Turn off the water tap. 2. Switch off the appliance. 3. Disconnect the appliance's mains plug from the power supply. 50 Cleaning and servicing en 4. Open the maintenance flap. 7. Take the drain hose out of the holder. 5. Remove the maintenance flap. 8. CAUTION - Risk of scalding! When you wash at high temperat- ures, the detergent solution gets hot. ▶ Do not touch the hot detergent solution. To allow the detergent solution to flow out into the container, remove the sealing cap. 6. Slide a sufficiently large receptacle under the opening. 9. Firmly press on the sealing cap. 51 en Cleaning and servicing 10.Insert the drain hose into the 2. Clean the interior, the thread on holder. the pump cap and the pump hous- ing. Cleaning the drain pump The pump cap is comprised of two Note: Please read the information in parts which can be taken apart for the Safety → Page 4 and Preventing cleaning. material damage → Page 10 sections 3. Ensure that both impellers can to ensure that you use the appliance turn. safely. Requirement: The drain pump is empty. → Page 50 1. Since water may remain in the drain pump, remove the pump cap carefully. 4. Insert the pump cap. ‒ Ensure that the parts of the pump cap are correctly as- sembled. 52 Cleaning and servicing en 5. Insert the pump cap and screw it 2. Check the intake opening for on as far as it will go. blockages and remove any block- ages. 90° The handle on the pump cap must be in a vertical position. Note: Do not use any sharp or poin- 6. Insert the maintenance flap and ted objects. lock it into place. 18.7 Cleaning the water outlet hose at the siphon 1. Switch off the appliance. 2. Disconnect the appliance's mains plug from the power supply. 3. Loosen the hose clamp and care- fully remove the water outlet hose. 1 2 7. Close the maintenance flap. 18.6 Cleaning the intake opening in the rubber gasket Regularly check the intake opening in the rubber gasket for any block- ages and clean the intake opening. Residual water may leak out. 1. Open the door. 53 en Cleaning and servicing 4. Clean the water outlet hose and si- Cleaning the filter on the tap phon connecting piece. Note: Please read the information in the Safety → Page 4 and Preventing material damage → Page 10 sections to ensure that you use the appliance safely. Requirement: The water inlet hose is empty. 1. Remove the water inlet hose from the tap. 5. Reattach the water outlet hose and secure the connection point using the hose clamp. 2. Clean the filter with a small brush. 18.8 Clean the water inlet fil- ters. Emptying the water inlet hose 1. Turn off the tap. 2. Set the Cottons programme. 3. Start the programme and leave it to run for approx. 70 seconds. 4. Switch off the appliance. 5. Disconnect the appliance's mains plug from the power supply. 54 Cleaning and servicing en 3. Connect the water inlet hose and 2. Use pliers to remove the filter. check for leaks. 3. Clean the filter with a small brush. Cleaning the filter on the appliance Note: Please read the information in the Safety → Page 4 and Preventing material damage → Page 10 sections to ensure that you use the appliance safely. Requirement: The water inlet hose is empty. → \"Emptying the water inlet hose\", Page 54 4. Reinsert the filter. 1. Disconnect the hose from the rear 5. Connect the hose and check for of the appliance. leaks. 1 2 1 2 55 en Troubleshooting T1roubleshooting 9 Troubleshooting TYroubleshooting ou can rectify minor faults on your appliance yourself. Read the troubleshoot- ing information before contacting after-sales service. This will avoid unneces- sary costs. WARNING Risk of electric shock! Incorrect repairs are dangerous. ▶ Repairs to the appliance should only be carried out by trained specialist staff. ▶ Only use genuine spare parts when repairing the appliance. ▶ If the power cord of this appliance is damaged, it must be replaced by the manufacturer, the manufacturer's Customer Service or a similarly qualified person in order to prevent any risk. Fault Cause and troubleshooting The display goes out Energy-saving mode is active and Start/Reload ▶ Press any button. flashes. aThe symbol lights up again. \"E:30 / -80\" Drain pipe or water outlet hose is blocked. ▶ Clean the drain pipe and the water outlet hose. Drain pipe or water drain hose is caught or jammed. ▶ Ensure that the drain pipe and water drain hose are not kinked or trapped. Drain pump is blocked. ▶ → \"Cleaning the drain pump\", Page 50 The water outlet hose is connected too high. ▶ Install the water outlet hose at a maximum height of 1 metre. Pump cover is not correctly assembled. ▶ Correctly assemble the pump cover. Detergent dosage is too high. ▶ Immediate measure: Mix one tablespoon of fabric softener with 0.5 litres of water and pour the mix- ture into the compartment for manual dosing (not for outdoor clothing, sportswear or items stuffed with down). ▶ If intelligent dosing is activated, reduce the basic dosage → Page 42. ▶ If you dose manually, reduce the amount of deter- gent for the next washing cycle with the same load. 56 Troubleshooting en Fault Cause and troubleshooting \"E:30 / -80\" Unapproved extension installed on the water drain hose. ▶ Remove any unapproved extensions from the water hose. Connecting \n",
      "```json\n",
      "{\n",
      "    \"Error Codes\": [\n",
      "        {\n",
      "            \"Code\": \"E:30 / -80\",\n",
      "            \"Description\": \"Drain pipe or water outlet hose is blocked.\"\n",
      "        },\n",
      "        {\n",
      "            \"Code\": \"E:30 / -80\",\n",
      "            \"Description\": \"Drain pipe or water drain hose is caught or jammed.\"\n",
      "        },\n",
      "        {\n",
      "            \"Code\": \"E:30 / -80\",\n",
      "            \"Description\": \"Drain pump is blocked.\"\n",
      "        },\n",
      "        {\n",
      "            \"Code\": \"E:30 / -80\",\n",
      "            \"Description\": \"The water outlet hose is connected too high.\"\n",
      "        },\n",
      "        {\n",
      "            \"Code\": \"E:30 / -80\",\n",
      "            \"Description\": \"Pump cover is not correctly assembled.\"\n",
      "        },\n",
      "        {\n",
      "            \"Code\": \"E:30 / -80\",\n",
      "            \"Description\": \"Detergent dosage is too high.\"\n",
      "        },\n",
      "        {\n",
      "            \"Code\": \"E:30 / -80\",\n",
      "            \"Description\": \"Unapproved extension installed on the water drain hose.\"\n",
      "        }\n",
      "    ]\n",
      "}\n",
      "```\n",
      "\n",
      "\n",
      "\n"
     ]
    },
    {
     "name": "stderr",
     "output_type": "stream",
     "text": [
      "\n"
     ]
    }
   ],
   "source": [
    "idx = 11\n",
    "# This loop costs money, so be careful to spend the entire $0.06 price tag. No i will not share my api key with you.\n",
    "\n",
    "for i in tqdm(range(0, 20), total =20, desc=\"Burning through the cash\"):\n",
    "\n",
    "    response = client.responses.create(\n",
    "        model=\"gpt-4o\",\n",
    "        instructions= prompt,\n",
    "        input=large_chunks_df.loc[idx,\"CHUNK_TEXT\"],\n",
    "    )\n",
    "\n",
    "    print(\"Chunk: \\n\", large_chunks_df.loc[idx,\"CHUNK_TEXT\"])\n",
    "    print(response.output_text)\n",
    "    print(\"\\n\"*2)"
   ]
  },
  {
   "cell_type": "code",
   "execution_count": null,
   "id": "e0dd5cf0",
   "metadata": {},
   "outputs": [],
   "source": []
  }
 ],
 "metadata": {
  "kernelspec": {
   "display_name": "VestasVenv",
   "language": "python",
   "name": "python3"
  },
  "language_info": {
   "codemirror_mode": {
    "name": "ipython",
    "version": 3
   },
   "file_extension": ".py",
   "mimetype": "text/x-python",
   "name": "python",
   "nbconvert_exporter": "python",
   "pygments_lexer": "ipython3",
   "version": "3.12.4"
  }
 },
 "nbformat": 4,
 "nbformat_minor": 5
}
