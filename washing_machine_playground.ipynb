{
 "cells": [
  {
   "cell_type": "markdown",
   "id": "26b5ea5b",
   "metadata": {},
   "source": [
    "### Test Notebook for running Cortex AI with local code\n",
    "\n",
    "To run this notebook, \n",
    "\n",
    "1. Make sure to have Python 3.12.4 installed. That is the latest version with a wheel as seen in this post (https://stackoverflow.com/questions/79135647/pip-install-snowflake-connector-python-fails-building-wheels). Using later versions will demand an installation of Visual Studio C++ 14.0, which i didn't test.\n",
    "\n",
    "2. create an environment and install the requirements.txt file\n",
    "\n",
    "3. Create Snowflake credentials in windows credential manager (Follow this post: https://medium.com/@aarhar/password-management-in-python-keyring-and-credential-manager-29fa4ccc919e)\n",
    "\n",
    "4. Run a query to test you connection (Currently it's not working, but the \"basics\" are there.)"
   ]
  },
  {
   "cell_type": "code",
   "execution_count": 2,
   "id": "45399dcc",
   "metadata": {},
   "outputs": [],
   "source": [
    "import pandas as pd\n",
    "import numpy as np\n",
    "import matplotlib.pyplot as plt\n",
    "import keyring\n",
    "import os \n",
    "import snowflake.connector as sf_connector"
   ]
  },
  {
   "cell_type": "code",
   "execution_count": 3,
   "id": "0079a738",
   "metadata": {},
   "outputs": [
    {
     "name": "stdout",
     "output_type": "stream",
     "text": [
      "Account Identifier:  EDBHJWL-MFB05236\n",
      "User Name:  EMILHALDAN5468402\n"
     ]
    }
   ],
   "source": [
    "account_identifier = keyring.get_password('NC_Snowflake_Trial_Account_Name', 'account_identifier')\n",
    "user_name = \"EMILHALDAN5468402\"\n",
    "password = keyring.get_password('NC_Snowflake_Trial_User_Password', user_name)\n",
    "\n",
    "print(\"Account Identifier: \", account_identifier)\n",
    "print(\"User Name: \", user_name)\n",
    "# print(\"Password: \", password)\n"
   ]
  },
  {
   "cell_type": "markdown",
   "id": "1126848c",
   "metadata": {},
   "source": [
    "## Setup in snowflake \n",
    "\n",
    "1. Create the database structure in Python first, and then create database tables in SnowFlake once the processing is done. This is due to the chaotic nature of the PDF files, which require a lot of cleaning and processing.\n",
    "\n",
    "2. \n"
   ]
  },
  {
   "cell_type": "markdown",
   "id": "52f42449",
   "metadata": {},
   "source": [
    "## The intended database structure is as follows:\n",
    "\n",
    "- **manuals** (Stores metadata about each manual)  \n",
    "  - `manual_id` (Unique ID for each manual)  \n",
    "  - `title` (Title of the manual)  \n",
    "  - `version` (Version or revision number)  \n",
    "  - `language` (Language code, e.g., 'en', 'de')  \n",
    "  - `source_path` (Original PDF file path or S3 URL)  \n",
    "  - `created_at` (Timestamp when the manual was added)  \n",
    "\n",
    "- **sections** (Defines logical sections and subsections within each manual)  \n",
    "  - `section_id` (Unique ID for the section)  \n",
    "  - `manual_id` (Foreign key referencing `manuals`)  \n",
    "  - `title` (Title or heading of the section)  \n",
    "  - `order_num` (Numerical order of the section in the manual)  \n",
    "  - `parent_section_id` (Optional FK for nested subsections)  \n",
    "\n",
    "- **chunks** (Text chunks derived from section content for LLMs or search)  \n",
    "  - `chunk_id` (Unique ID for the chunk)  \n",
    "  - `section_id` (Foreign key referencing `sections`)  \n",
    "  - `chunk_text` (The text content of the chunk)  \n",
    "  - `chunk_order` (Order of the chunk within the section)  \n",
    "  - `embedding` (Optional vector for semantic search or embeddings)  \n",
    "\n",
    "- **images** (Stores references to images extracted from the manual)  \n",
    "  - `image_id` (Unique ID for the image)  \n",
    "  - `manual_id` (Foreign key referencing `manuals`)  \n",
    "  - `section_id` (Foreign key referencing `sections`)  \n",
    "  - `image_path` (S3 or web-accessible path to the image)  \n",
    "  - `caption` (Optional caption or alt text)  \n",
    "  - `order_num` (Display order within the section)  \n"
   ]
  },
  {
   "cell_type": "code",
   "execution_count": 6,
   "id": "f01ee53b",
   "metadata": {},
   "outputs": [],
   "source": [
    "manuals_df = pd.DataFrame(columns=['Manual_ID', 'Doc_Name', 'Version', 'Language', 'Source_Path'])\n",
    "sections_df = pd.DataFrame(columns=['Section_ID', 'Manual_ID', 'Doc_Name', 'Order_Num', 'Parent_Section_ID'])\n",
    "chunks_df = pd.DataFrame(columns=['Chunk_ID', 'Section_ID', 'Manual_ID', 'Order_Num', 'Chunk_Embedding_Vector'])\n",
    "images_df = pd.DataFrame(columns=['Image_ID', 'Section_ID', 'Manual_ID', 'Order_Num', 'Image_Description' ,'Image_Path'])"
   ]
  },
  {
   "cell_type": "code",
   "execution_count": 5,
   "id": "af5bd02c",
   "metadata": {},
   "outputs": [
    {
     "name": "stdout",
     "output_type": "stream",
     "text": [
      "k714wm14 service manual.pdf\n",
      "mmo_87050793_1630397705_64_10689.pdf\n",
      "technical-manual-w11663204-revb.pdf\n",
      "WAK20160IN.pdf\n",
      "WAN28258GB.pdf\n",
      "WAN28282GC.pdf\n",
      "Washing machine Top-loader C series.pdf\n",
      "WAT24168IN.pdf\n",
      "WAV28KH3GB.pdf\n",
      "WFL2050.pdf\n",
      "WGA1340SIN.pdf\n",
      "WGA1420SIN.pdf\n",
      "WGE03408GB.pdf\n",
      "WGG254Z0GB.pdf\n"
     ]
    }
   ],
   "source": [
    "pdf_files_path = \"./Washer_Manuals\"\n",
    "\n",
    "for filename in os.listdir(pdf_files_path):\n",
    "    if filename.endswith(\".pdf\"):\n",
    "        print(filename)\n",
    "        # do something with the file\n",
    "    else:\n",
    "        continue"
   ]
  },
  {
   "cell_type": "code",
   "execution_count": null,
   "id": "7b6f0296",
   "metadata": {},
   "outputs": [],
   "source": []
  },
  {
   "cell_type": "code",
   "execution_count": null,
   "id": "5b3e0335",
   "metadata": {},
   "outputs": [],
   "source": []
  },
  {
   "cell_type": "code",
   "execution_count": null,
   "id": "3dd03b84",
   "metadata": {},
   "outputs": [],
   "source": []
  },
  {
   "cell_type": "code",
   "execution_count": null,
   "id": "8d6b9bb5",
   "metadata": {},
   "outputs": [],
   "source": []
  },
  {
   "cell_type": "code",
   "execution_count": null,
   "id": "74468866",
   "metadata": {},
   "outputs": [],
   "source": []
  },
  {
   "cell_type": "code",
   "execution_count": null,
   "id": "d8882fdc",
   "metadata": {},
   "outputs": [],
   "source": [
    "\n",
    "connection_parameters = {\n",
    "    \"account_identifier\": account_identifier,\n",
    "    \"user\": user_name,\n",
    "    \"password\": password,\n",
    "    \"role\": \"ACCOUNTADMIN\",\n",
    "    \"warehouse\": \"COMPUTE_WH\",\n",
    "    \"database\": \"CYBERSYN\",\n",
    "    \"schema\": \"PUBLIC\"\n",
    "}\n",
    "\n",
    "# Connect to Snowflake\n",
    "conn = sf_connector.connect(\n",
    "    user=connection_parameters['user'],\n",
    "    password=connection_parameters['password'],\n",
    "    account=connection_parameters['account_identifier'],\n",
    "    warehouse=connection_parameters['warehouse'],\n",
    "    database=connection_parameters['database'],\n",
    "    schema=connection_parameters['schema'],\n",
    "    role=connection_parameters['role']\n",
    ")\n",
    "\n",
    "# # Test the connection\n",
    "cursor = conn.cursor()\n",
    "cursor.execute(\"\"\"\n",
    "    SELECT * \n",
    "    FROM company_metadata;\n",
    "\"\"\")\n",
    "\n",
    "df = cursor.fetch_pandas_all()\n",
    "df"
   ]
  },
  {
   "cell_type": "code",
   "execution_count": null,
   "id": "98e18be0",
   "metadata": {},
   "outputs": [],
   "source": []
  }
 ],
 "metadata": {
  "kernelspec": {
   "display_name": "Python 3",
   "language": "python",
   "name": "python3"
  },
  "language_info": {
   "codemirror_mode": {
    "name": "ipython",
    "version": 3
   },
   "file_extension": ".py",
   "mimetype": "text/x-python",
   "name": "python",
   "nbconvert_exporter": "python",
   "pygments_lexer": "ipython3",
   "version": "3.12.4"
  }
 },
 "nbformat": 4,
 "nbformat_minor": 5
}
